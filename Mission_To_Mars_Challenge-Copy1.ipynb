{
 "cells": [
  {
   "cell_type": "code",
   "execution_count": 1,
   "id": "6c67e963",
   "metadata": {},
   "outputs": [],
   "source": [
    "# Import Splinter and BeautifulSoup\n",
    "from splinter import Browser\n",
    "from bs4 import BeautifulSoup as soup\n",
    "from webdriver_manager.chrome import ChromeDriverManager\n",
    "import pandas as pd"
   ]
  },
  {
   "cell_type": "code",
   "execution_count": 2,
   "id": "e389c3b1",
   "metadata": {},
   "outputs": [
    {
     "name": "stderr",
     "output_type": "stream",
     "text": [
      "[WDM] - \n",
      "\n",
      "[WDM] - ====== WebDriver manager ======\n",
      "[WDM] - Current google-chrome version is 96.0.4664\n",
      "[WDM] - Get LATEST driver version for 96.0.4664\n",
      "[WDM] - Driver [/Users/alissa/.wdm/drivers/chromedriver/mac64/96.0.4664.45/chromedriver] found in cache\n"
     ]
    }
   ],
   "source": [
    "executable_path = {'executable_path': ChromeDriverManager().install()}\n",
    "browser = Browser('chrome', **executable_path, headless=False)"
   ]
  },
  {
   "cell_type": "code",
   "execution_count": 3,
   "id": "b8557d8b",
   "metadata": {},
   "outputs": [
    {
     "data": {
      "text/plain": [
       "False"
      ]
     },
     "execution_count": 3,
     "metadata": {},
     "output_type": "execute_result"
    }
   ],
   "source": [
    "# Visit the mars nasa news site\n",
    "url = 'http://www.olympedia.org/results/1006'\n",
    "browser.visit(url)\n",
    "# Optional delay for loading the page\n",
    "browser.is_element_present_by_css('div.list_text', wait_time=1)"
   ]
  },
  {
   "cell_type": "code",
   "execution_count": 8,
   "id": "4b5f702c",
   "metadata": {},
   "outputs": [],
   "source": [
    "html = browser.html\n",
    "news_soup = soup(html, 'html.parser')\n"
   ]
  },
  {
   "cell_type": "code",
   "execution_count": 11,
   "id": "676b74df",
   "metadata": {},
   "outputs": [
    {
     "data": {
      "text/plain": [
       "[<div class=\"container\">\n",
       " <ol class=\"breadcrumb\">\n",
       " <li>\n",
       " <a href=\"/\">Home</a>\n",
       " </li>\n",
       " <li><a href=\"/editions\">Games</a></li><li><a href=\"/editions\">Games</a></li><li><a href=\"/editions/36\">1960 Winter Olympics</a></li><li><a href=\"/editions/36/sports/SSK\">Speed Skating</a></li><li class=\"active\">1,500 metres, Men</li>\n",
       " </ol>\n",
       " <div><form class=\"form-inline form-inline-header\"><select class=\"form-control\" id=\"same_games_select\" name=\"id\"><option value=\"\">Other 1960 speed skating events</option>\n",
       " <option value=\"1005\">500 metres, Men</option>\n",
       " <option value=\"1007\">5,000 metres, Men</option>\n",
       " <option value=\"1008\">10,000 metres, Men</option>\n",
       " <option value=\"1009\">500 metres, Women</option>\n",
       " <option value=\"1010\">1,000 metres, Women</option>\n",
       " <option value=\"1011\">1,500 metres, Women</option>\n",
       " <option value=\"1012\">3,000 metres, Women</option></select><script>$('#same_games_select').change(function(){location.href='/results/' + $('#same_games_select').val();})</script></form> | <form class=\"form-inline form-inline-header\"><select class=\"form-control\" id=\"other_games_select\" name=\"id\"><option value=\"\">In other Games</option>\n",
       " <option value=\"957\">1924</option>\n",
       " <option value=\"962\">1928</option>\n",
       " <option value=\"971\">1932</option>\n",
       " <option value=\"990\">1936</option>\n",
       " <option value=\"994\">1948</option>\n",
       " <option value=\"998\">1952</option>\n",
       " <option value=\"1002\">1956</option>\n",
       " <option value=\"1014\">1964</option>\n",
       " <option value=\"1022\">1968</option>\n",
       " <option value=\"1030\">1972</option>\n",
       " <option value=\"1039\">1976</option>\n",
       " <option value=\"1048\">1980</option>\n",
       " <option value=\"1057\">1984</option>\n",
       " <option value=\"1066\">1988</option>\n",
       " <option value=\"1076\">1992</option>\n",
       " <option value=\"1086\">1994</option>\n",
       " <option value=\"1098\">1998</option>\n",
       " <option value=\"1112\">2002</option>\n",
       " <option value=\"1126\">2006</option>\n",
       " <option value=\"924504\">2010</option>\n",
       " <option value=\"350648\">2014</option>\n",
       " <option value=\"9001029\">2018</option></select><script>$('#other_games_select').change(function(){location.href='/results/' + $('#other_games_select').val();})</script></form> | <a href=\"/event_names/532\">Event type</a></div><h1 class=\"event_title\">1,500 metres, Men<small></small></h1><table class=\"biodata\"><tbody><tr><th>Date</th><td>26 February 1960</td></tr><tr><th>Status</th><td>Olympic</td></tr><tr><th>Location</th><td><a href=\"/venues/138\">Speed Skating Oval, Squaw Valley, California</a></td></tr><tr><th>Participants</th><td>48 from 16 countries</td></tr><tr class=\"referees\" style=\"\"><th>Starter</th><td style=\"width: 400px\"><a href=\"/athletes/5001790\">Dick McCarter</a></td><td><a href=\"/countries/USA\"><img src=\"/images/flags/USA.png\" style=\"padding-right: 2px; vertical-align: middle\"/>USA</a></td></tr><tr class=\"referees\" style=\"\"><th>Referee</th><td style=\"width: 400px\"><a href=\"/athletes/76243\">Sven Låftman</a></td><td><a href=\"/countries/SWE\"><img src=\"/images/flags/SWE.png\" style=\"padding-right: 2px; vertical-align: middle\"/>SWE</a></td></tr></tbody></table><div class=\"description\"><p>Several skaters were highly considered in this event, although there was no clear favorite. The co-defending champion, <a href=\"/athletes/86236\">Yevgeny Grishin</a>, was back and was a top sprinter. The other 1956 champion, <a href=\"/athletes/95436\">Yury Mikhaylov</a>, did not compete in Squaw Valley. The world record holder with 2:06.2 was Finnish skater <a href=\"/athletes/\">Juhani Järvinen</a>, who had set the record in March 1959 in a pre-Olympic meet in Squaw Valley. He had won the distance at the 1959 European Championships, and was second at the 1959 World Championships. At the recent 1960 World and European Championships, the distance had been won by <a href=\"/athletes/97825\">Boris Stenin</a> and <a href=\"/athletes/87553\">Knut Johannesen</a>, respectively, although Johannesen was normally considered better at the longer distances.</p>\n",
       " <p>The day of the race was clear but with very high winds, as in the 5,000 the day before, which hampered the skaters and slowed down the times a bit. A large field of 48 skaters answered the gun. Among the favorites, Stenin was off first, in the sixth pair. He started well and was the first skater to pass 700 metres in under a minute, and finished in 2:11.5 to take the lead. The time held up until the ninth pair when Norway’s <a href=\"/athletes/99337\">Roald Aas</a> finished in 2:10.4. Aas was well off Stenin’s pace even thru 1,100 metres, but finished very strongly. Aas skated alongside Järvinen, who was behind Aas throughout and could not match his final lap, finishing in 2:13.1, which would place him tied for fifth. Grishin started in the 13th pair, and set the fastest pace. His splits were 26 seconds, 58 seconds, and 1:32, all the fastest of the event, but he could not match Aas’s finish, and he crossed the line in 2:10.4. The times would hold up with Grishin and Aas tieing for first, with Stenin third. Amazingly, the event had co-champions as it had in 1956.</p>\n",
       " <p>Aas was not new to the podium at the Olympics as he had been the bronze medalist in this event in 1952 at Oslo. He had had a solid international career since 1951, finishing third in all-around at the 1957 and 1960 European Championships and the 1958 World Championships. He retired after this, his greatest triumph. Grishin had been competing internationally since 1954. Among the greatest sprinters ever, he was almost never beaten at 500 metres, and in the 1,500, had won the distance at the 1955 and 1957 Europeans, in addition to his two Olympic golds. He continued to race after Squaw Valley, though less frequently after 1963, but would appear at the 1964 and 1968 Winter Olympics, winning a silver in the 500 in 1964.</p>\n",
       " </div><button class=\"btn btn-default\" id=\"button585745\">Splits</button><script>$('#button585745').click(splits)</script><table class=\"table table-striped\"><thead><tr><th>Pos</th><th>Pair</th><th>Skater</th><th>NOC</th><th>Time</th><th class=\"split\" style=\"display: none\">300 m</th><th class=\"split\" style=\"display: none\">700 m</th><th class=\"split\" style=\"display: none\">1100 m</th><th></th><th></th><th></th></tr></thead><tbody><tr class=\"\" style=\"\"><td>=1</td><td class=\"bib\">9O</td><td><a href=\"/athletes/99337\">Roald Aas</a></td><td><a href=\"/countries/NOR\"><img src=\"/images/flags/NOR.png\" style=\"padding-right: 2px; vertical-align: middle\"/>NOR</a></td><td>2:10.4</td><td class=\"split\" style=\"display: none\">28</td><td class=\"split\" style=\"display: none\">1:00</td><td class=\"split\" style=\"display: none\">1:35</td><td></td><td><span class=\"Gold\">Gold</span></td><td></td></tr><tr class=\"\" style=\"\"><td>=1</td><td class=\"bib\">13I</td><td><a href=\"/athletes/86236\">Yevgeny Grishin</a></td><td><a href=\"/countries/URS\"><img src=\"/images/flags/URS.png\" style=\"padding-right: 2px; vertical-align: middle\"/>URS</a></td><td>2:10.4</td><td class=\"split\" style=\"display: none\">26</td><td class=\"split\" style=\"display: none\">58</td><td class=\"split\" style=\"display: none\">1:32</td><td></td><td><span class=\"Gold\">Gold</span></td><td></td></tr><tr class=\"\" style=\"\"><td>3</td><td class=\"bib\">6O</td><td><a href=\"/athletes/97825\">Boris Stenin</a></td><td><a href=\"/countries/URS\"><img src=\"/images/flags/URS.png\" style=\"padding-right: 2px; vertical-align: middle\"/>URS</a></td><td>2:11.5</td><td class=\"split\" style=\"display: none\">27</td><td class=\"split\" style=\"display: none\">59</td><td class=\"split\" style=\"display: none\">1:33</td><td></td><td><span class=\"Bronze\">Bronze</span></td><td></td></tr><tr class=\"\" style=\"\"><td>4</td><td class=\"bib\">5O</td><td><a href=\"/athletes/87617\">Jouko Jokinen</a></td><td><a href=\"/countries/FIN\"><img src=\"/images/flags/FIN.png\" style=\"padding-right: 2px; vertical-align: middle\"/>FIN</a></td><td>2:12.0</td><td class=\"split\" style=\"display: none\">27</td><td class=\"split\" style=\"display: none\">1:01</td><td class=\"split\" style=\"display: none\">1:35</td><td></td><td></td><td></td></tr><tr class=\"\" style=\"\"><td>=5</td><td class=\"bib\">11I</td><td><a href=\"/athletes/84384\">Per-Olof Brogren</a></td><td><a href=\"/countries/SWE\"><img src=\"/images/flags/SWE.png\" style=\"padding-right: 2px; vertical-align: middle\"/>SWE</a></td><td>2:13.1</td><td class=\"split\" style=\"display: none\">28</td><td class=\"split\" style=\"display: none\">1:01</td><td class=\"split\" style=\"display: none\">1:36</td><td></td><td></td><td></td></tr><tr class=\"\" style=\"\"><td>=5</td><td class=\"bib\">9I</td><td><a href=\"/athletes/87699\">Juhani Järvinen</a></td><td><a href=\"/countries/FIN\"><img src=\"/images/flags/FIN.png\" style=\"padding-right: 2px; vertical-align: middle\"/>FIN</a></td><td>2:13.1</td><td class=\"split\" style=\"display: none\">28</td><td class=\"split\" style=\"display: none\">1:02</td><td class=\"split\" style=\"display: none\">1:36</td><td></td><td></td><td></td></tr><tr class=\"\" style=\"\"><td>7</td><td class=\"bib\">11O</td><td><a href=\"/athletes/97108\">Toivo Salonen</a></td><td><a href=\"/countries/FIN\"><img src=\"/images/flags/FIN.png\" style=\"padding-right: 2px; vertical-align: middle\"/>FIN</a></td><td>2:13.1</td><td class=\"split\" style=\"display: none\">27</td><td class=\"split\" style=\"display: none\">1:00</td><td class=\"split\" style=\"display: none\">1:35</td><td></td><td></td><td></td></tr><tr class=\"\" style=\"\"><td>8</td><td class=\"bib\">14I</td><td><a href=\"/athletes/88566\">André Kouprianoff</a></td><td><a href=\"/countries/FRA\"><img src=\"/images/flags/FRA.png\" style=\"padding-right: 2px; vertical-align: middle\"/>FRA</a></td><td>2:13.3</td><td class=\"split\" style=\"display: none\">28</td><td class=\"split\" style=\"display: none\">1:02</td><td class=\"split\" style=\"display: none\">1:37</td><td></td><td></td><td></td></tr><tr class=\"\" style=\"\"><td>9</td><td class=\"bib\">8I</td><td><a href=\"/athletes/88693\">Helmut Kuhnert</a></td><td><a href=\"/countries/GER\"><img src=\"/images/flags/GER.png\" style=\"padding-right: 2px; vertical-align: middle\"/>GER</a></td><td>2:13.6</td><td class=\"split\" style=\"display: none\">29</td><td class=\"split\" style=\"display: none\">1:03</td><td class=\"split\" style=\"display: none\">1:37</td><td></td><td></td><td></td></tr><tr class=\"\" style=\"\"><td>10</td><td class=\"bib\">19I</td><td><a href=\"/athletes/86069\">Raymond Gilloz</a></td><td><a href=\"/countries/FRA\"><img src=\"/images/flags/FRA.png\" style=\"padding-right: 2px; vertical-align: middle\"/>FRA</a></td><td>2:14.2</td><td class=\"split\" style=\"display: none\">28</td><td class=\"split\" style=\"display: none\">1:02</td><td class=\"split\" style=\"display: none\">1:37</td><td></td><td></td><td></td></tr><tr class=\"\" style=\"\"><td>11</td><td class=\"bib\">16O</td><td><a href=\"/athletes/87553\">Knut Johannesen</a></td><td><a href=\"/countries/NOR\"><img src=\"/images/flags/NOR.png\" style=\"padding-right: 2px; vertical-align: middle\"/>NOR</a></td><td>2:14.5</td><td class=\"split\" style=\"display: none\">29</td><td class=\"split\" style=\"display: none\">1:03</td><td class=\"split\" style=\"display: none\">1:38</td><td></td><td></td><td></td></tr><tr class=\"\" style=\"\"><td>12</td><td class=\"bib\">17O</td><td><a href=\"/athletes/98724\">Gennady Voronin</a></td><td><a href=\"/countries/URS\"><img src=\"/images/flags/URS.png\" style=\"padding-right: 2px; vertical-align: middle\"/>URS</a></td><td>2:14.7</td><td class=\"split\" style=\"display: none\">27</td><td class=\"split\" style=\"display: none\">59</td><td class=\"split\" style=\"display: none\">1:34</td><td></td><td></td><td></td></tr><tr class=\"\" style=\"\"><td>13</td><td class=\"bib\">5I</td><td><a href=\"/athletes/97856\">Kurt Stille</a></td><td><a href=\"/countries/DEN\"><img src=\"/images/flags/DEN.png\" style=\"padding-right: 2px; vertical-align: middle\"/>DEN</a></td><td>2:15.8</td><td class=\"split\" style=\"display: none\">28</td><td class=\"split\" style=\"display: none\">1:03</td><td class=\"split\" style=\"display: none\">1:38</td><td></td><td></td><td></td></tr><tr class=\"\" style=\"\"><td>14</td><td class=\"bib\">13O</td><td><a href=\"/athletes/86621\">Colin Hickey</a></td><td><a href=\"/countries/AUS\"><img src=\"/images/flags/AUS.png\" style=\"padding-right: 2px; vertical-align: middle\"/>AUS</a></td><td>2:16.1</td><td class=\"split\" style=\"display: none\">28</td><td class=\"split\" style=\"display: none\">1:02</td><td class=\"split\" style=\"display: none\">1:37</td><td></td><td></td><td></td></tr><tr class=\"\" style=\"\"><td>=15</td><td class=\"bib\">17I</td><td><a href=\"/athletes/85055\">Wim de Graaff</a></td><td><a href=\"/countries/NED\"><img src=\"/images/flags/NED.png\" style=\"padding-right: 2px; vertical-align: middle\"/>NED</a></td><td>2:16.5</td><td class=\"split\" style=\"display: none\">28</td><td class=\"split\" style=\"display: none\">1:02</td><td class=\"split\" style=\"display: none\">1:38</td><td></td><td></td><td></td></tr><tr class=\"\" style=\"\"><td>=15</td><td class=\"bib\">6I</td><td><a href=\"/athletes/97587\">Gunnar Sjölin</a></td><td><a href=\"/countries/SWE\"><img src=\"/images/flags/SWE.png\" style=\"padding-right: 2px; vertical-align: middle\"/>SWE</a></td><td>2:16.5</td><td class=\"split\" style=\"display: none\">29</td><td class=\"split\" style=\"display: none\">1:02</td><td class=\"split\" style=\"display: none\">1:37</td><td></td><td></td><td></td></tr><tr class=\"\" style=\"\"><td>17</td><td class=\"bib\">8O</td><td><a href=\"/athletes/87240\">Dick Hunt</a></td><td><a href=\"/countries/USA\"><img src=\"/images/flags/USA.png\" style=\"padding-right: 2px; vertical-align: middle\"/>USA</a></td><td>2:17.7</td><td class=\"split\" style=\"display: none\">29</td><td class=\"split\" style=\"display: none\">1:04</td><td class=\"split\" style=\"display: none\">1:40</td><td></td><td></td><td></td></tr><tr class=\"\" style=\"\"><td>=18</td><td class=\"bib\">4O</td><td><a href=\"/athletes/84976\">Olle Dahlberg</a></td><td><a href=\"/countries/SWE\"><img src=\"/images/flags/SWE.png\" style=\"padding-right: 2px; vertical-align: middle\"/>SWE</a></td><td>2:18.3</td><td class=\"split\" style=\"display: none\">28</td><td class=\"split\" style=\"display: none\">1:02</td><td class=\"split\" style=\"display: none\">1:39</td><td></td><td></td><td></td></tr><tr class=\"\" style=\"\"><td>=18</td><td class=\"bib\">1I</td><td><a href=\"/athletes/97357\">Manfred Schüler</a></td><td><a href=\"/countries/GER\"><img src=\"/images/flags/GER.png\" style=\"padding-right: 2px; vertical-align: middle\"/>GER</a></td><td>2:18.3</td><td class=\"split\" style=\"display: none\">28</td><td class=\"split\" style=\"display: none\">1:02</td><td class=\"split\" style=\"display: none\">1:39</td><td></td><td></td><td></td></tr><tr class=\"\" style=\"\"><td>20</td><td class=\"bib\">19O</td><td><a href=\"/athletes/86078\">Mario Gios</a></td><td><a href=\"/countries/ITA\"><img src=\"/images/flags/ITA.png\" style=\"padding-right: 2px; vertical-align: middle\"/>ITA</a></td><td>2:18.6</td><td class=\"split\" style=\"display: none\">28</td><td class=\"split\" style=\"display: none\">1:04</td><td class=\"split\" style=\"display: none\">1:40</td><td></td><td></td><td></td></tr><tr class=\"\" style=\"\"><td>21</td><td class=\"bib\">3I</td><td><a href=\"/athletes/95715\">Fumio Nagakubo</a></td><td><a href=\"/countries/JPN\"><img src=\"/images/flags/JPN.png\" style=\"padding-right: 2px; vertical-align: middle\"/>JPN</a></td><td>2:18.7</td><td class=\"split\" style=\"display: none\">27</td><td class=\"split\" style=\"display: none\">1:01</td><td class=\"split\" style=\"display: none\">1:39</td><td></td><td></td><td></td></tr><tr class=\"\" style=\"\"><td>22</td><td class=\"bib\">14O</td><td><a href=\"/athletes/83949\">Floyd Bedbury</a></td><td><a href=\"/countries/USA\"><img src=\"/images/flags/USA.png\" style=\"padding-right: 2px; vertical-align: middle\"/>USA</a></td><td>2:18.9</td><td class=\"split\" style=\"display: none\">29</td><td class=\"split\" style=\"display: none\">1:04</td><td class=\"split\" style=\"display: none\">1:40</td><td></td><td></td><td></td></tr><tr class=\"\" style=\"\"><td>23</td><td class=\"bib\">23O</td><td><a href=\"/athletes/98163\">Keijo Tapiovaara</a></td><td><a href=\"/countries/FIN\"><img src=\"/images/flags/FIN.png\" style=\"padding-right: 2px; vertical-align: middle\"/>FIN</a></td><td>2:19.2</td><td class=\"split\" style=\"display: none\">28</td><td class=\"split\" style=\"display: none\">1:04</td><td class=\"split\" style=\"display: none\">1:41</td><td></td><td></td><td></td></tr><tr class=\"\" style=\"\"><td>24</td><td class=\"bib\">7I</td><td><a href=\"/athletes/97908\">Hermann Strutz</a></td><td><a href=\"/countries/AUT\"><img src=\"/images/flags/AUT.png\" style=\"padding-right: 2px; vertical-align: middle\"/>AUT</a></td><td>2:19.4</td><td class=\"split\" style=\"display: none\">30</td><td class=\"split\" style=\"display: none\">1:05</td><td class=\"split\" style=\"display: none\">1:42</td><td></td><td></td><td></td></tr><tr class=\"\" style=\"\"><td>25</td><td class=\"bib\">2O</td><td><a href=\"/athletes/95873\">Antonio Nitto</a></td><td><a href=\"/countries/ITA\"><img src=\"/images/flags/ITA.png\" style=\"padding-right: 2px; vertical-align: middle\"/>ITA</a></td><td>2:19.6</td><td class=\"split\" style=\"display: none\">29</td><td class=\"split\" style=\"display: none\">1:04</td><td class=\"split\" style=\"display: none\">1:41</td><td></td><td></td><td></td></tr><tr class=\"\" style=\"\"><td>26</td><td class=\"bib\">12O</td><td><a href=\"/athletes/95539\">Terry Monaghan</a></td><td><a href=\"/countries/GBR\"><img src=\"/images/flags/GBR.png\" style=\"padding-right: 2px; vertical-align: middle\"/>GBR</a></td><td>2:19.9</td><td class=\"split\" style=\"display: none\">30</td><td class=\"split\" style=\"display: none\">1:05</td><td class=\"split\" style=\"display: none\">1:42</td><td></td><td></td><td></td></tr><tr class=\"\" style=\"\"><td>27</td><td class=\"bib\">10O</td><td><a href=\"/athletes/85085\">Renato De Riva</a></td><td><a href=\"/countries/ITA\"><img src=\"/images/flags/ITA.png\" style=\"padding-right: 2px; vertical-align: middle\"/>ITA</a></td><td>2:20.6</td><td class=\"split\" style=\"display: none\">29</td><td class=\"split\" style=\"display: none\">1:04</td><td class=\"split\" style=\"display: none\">1:42</td><td></td><td></td><td></td></tr><tr class=\"\" style=\"\"><td>28</td><td class=\"bib\">22O</td><td><a href=\"/athletes/87784\">Bo Karenus</a></td><td><a href=\"/countries/SWE\"><img src=\"/images/flags/SWE.png\" style=\"padding-right: 2px; vertical-align: middle\"/>SWE</a></td><td>2:21.1</td><td class=\"split\" style=\"display: none\">28</td><td class=\"split\" style=\"display: none\">1:04</td><td class=\"split\" style=\"display: none\">1:42</td><td></td><td></td><td></td></tr><tr class=\"\" style=\"\"><td>=29</td><td class=\"bib\">10I</td><td><a href=\"/athletes/87153\">Yoshitaki Hori</a></td><td><a href=\"/countries/JPN\"><img src=\"/images/flags/JPN.png\" style=\"padding-right: 2px; vertical-align: middle\"/>JPN</a></td><td>2:21.7</td><td class=\"split\" style=\"display: none\">28</td><td class=\"split\" style=\"display: none\">1:03</td><td class=\"split\" style=\"display: none\">1:42</td><td></td><td></td><td></td></tr><tr class=\"\" style=\"\"><td>=29</td><td class=\"bib\">21I</td><td><a href=\"/athletes/95413\">Keith Meyer</a></td><td><a href=\"/countries/USA\"><img src=\"/images/flags/USA.png\" style=\"padding-right: 2px; vertical-align: middle\"/>USA</a></td><td>2:21.7</td><td class=\"split\" style=\"display: none\">28</td><td class=\"split\" style=\"display: none\">1:02</td><td class=\"split\" style=\"display: none\">1:39</td><td></td><td></td><td></td></tr><tr class=\"\" style=\"\"><td>=31</td><td class=\"bib\">15I</td><td><a href=\"/athletes/95890\">Harald Norden</a></td><td><a href=\"/countries/GER\"><img src=\"/images/flags/GER.png\" style=\"padding-right: 2px; vertical-align: middle\"/>GER</a></td><td>2:22.1</td><td class=\"split\" style=\"display: none\">28</td><td class=\"split\" style=\"display: none\">1:04</td><td class=\"split\" style=\"display: none\">1:42</td><td></td><td></td><td></td></tr><tr class=\"\" style=\"\"><td>=31</td><td class=\"bib\">22I</td><td><a href=\"/athletes/99155\">Lev Zaytsev</a></td><td><a href=\"/countries/URS\"><img src=\"/images/flags/URS.png\" style=\"padding-right: 2px; vertical-align: middle\"/>URS</a></td><td>2:22.1</td><td class=\"split\" style=\"display: none\">28</td><td class=\"split\" style=\"display: none\">1:02</td><td class=\"split\" style=\"display: none\">1:39</td><td></td><td></td><td></td></tr><tr class=\"\" style=\"\"><td>33</td><td class=\"bib\">1O</td><td><a href=\"/athletes/95500\">Takeo Mizoo</a></td><td><a href=\"/countries/JPN\"><img src=\"/images/flags/JPN.png\" style=\"padding-right: 2px; vertical-align: middle\"/>JPN</a></td><td>2:22.6</td><td class=\"split\" style=\"display: none\">29</td><td class=\"split\" style=\"display: none\">1:05</td><td class=\"split\" style=\"display: none\">1:42</td><td></td><td></td><td></td></tr><tr class=\"\" style=\"\"><td>34</td><td class=\"bib\">20I</td><td><a href=\"/athletes/88072\">Shuji Kobayashi</a></td><td><a href=\"/countries/JPN\"><img src=\"/images/flags/JPN.png\" style=\"padding-right: 2px; vertical-align: middle\"/>JPN</a></td><td>2:23.0</td><td class=\"split\" style=\"display: none\">29</td><td class=\"split\" style=\"display: none\">1:05</td><td class=\"split\" style=\"display: none\">1:42</td><td></td><td></td><td></td></tr><tr class=\"\" style=\"\"><td>35</td><td class=\"bib\">3O</td><td><a href=\"/athletes/96990\">Eddie Rudolph, Jr.</a></td><td><a href=\"/countries/USA\"><img src=\"/images/flags/USA.png\" style=\"padding-right: 2px; vertical-align: middle\"/>USA</a></td><td>2:23.1</td><td class=\"split\" style=\"display: none\">27</td><td class=\"split\" style=\"display: none\">1:01</td><td class=\"split\" style=\"display: none\">1:40</td><td></td><td></td><td></td></tr><tr class=\"\" style=\"\"><td>36</td><td class=\"bib\">12I</td><td><a href=\"/athletes/96035\">Ralf Olin</a></td><td><a href=\"/countries/CAN\"><img src=\"/images/flags/CAN.png\" style=\"padding-right: 2px; vertical-align: middle\"/>CAN</a></td><td>2:23.5</td><td class=\"split\" style=\"display: none\">30</td><td class=\"split\" style=\"display: none\">1:05</td><td class=\"split\" style=\"display: none\">1:43</td><td></td><td></td><td></td></tr><tr class=\"\" style=\"\"><td>37</td><td class=\"bib\">2I</td><td><a href=\"/athletes/98441\">Roy Tutty</a></td><td><a href=\"/countries/AUS\"><img src=\"/images/flags/AUS.png\" style=\"padding-right: 2px; vertical-align: middle\"/>AUS</a></td><td>2:23.8</td><td class=\"split\" style=\"display: none\">29</td><td class=\"split\" style=\"display: none\">1:05</td><td class=\"split\" style=\"display: none\">1:43</td><td></td><td></td><td></td></tr><tr class=\"\" style=\"\"><td>38</td><td class=\"bib\">24I</td><td><a href=\"/athletes/98276\">Günther Tilch</a></td><td><a href=\"/countries/GER\"><img src=\"/images/flags/GER.png\" style=\"padding-right: 2px; vertical-align: middle\"/>GER</a></td><td>2:24.8</td><td class=\"split\" style=\"display: none\">30</td><td class=\"split\" style=\"display: none\">1:07</td><td class=\"split\" style=\"display: none\">1:45</td><td></td><td></td><td></td></tr><tr class=\"\" style=\"\"><td>39</td><td class=\"bib\">18I</td><td><a href=\"/athletes/85487\">Hroar Elvenes</a></td><td><a href=\"/countries/NOR\"><img src=\"/images/flags/NOR.png\" style=\"padding-right: 2px; vertical-align: middle\"/>NOR</a></td><td>2:24.9</td><td class=\"split\" style=\"display: none\">28</td><td class=\"split\" style=\"display: none\">1:03</td><td class=\"split\" style=\"display: none\">1:42</td><td></td><td></td><td></td></tr><tr class=\"\" style=\"\"><td>40</td><td class=\"bib\">20O</td><td><a href=\"/athletes/92089\">Terry Malkin</a></td><td><a href=\"/countries/GBR\"><img src=\"/images/flags/GBR.png\" style=\"padding-right: 2px; vertical-align: middle\"/>GBR</a></td><td>2:25.0</td><td class=\"split\" style=\"display: none\">31</td><td class=\"split\" style=\"display: none\">1:08</td><td class=\"split\" style=\"display: none\">1:46</td><td></td><td></td><td></td></tr><tr class=\"\" style=\"\"><td>41</td><td class=\"bib\">4I</td><td><a href=\"/athletes/84695\">Jang Yeong</a></td><td><a href=\"/countries/KOR\"><img src=\"/images/flags/KOR.png\" style=\"padding-right: 2px; vertical-align: middle\"/>KOR</a></td><td>2:25.3</td><td class=\"split\" style=\"display: none\">29</td><td class=\"split\" style=\"display: none\">1:04</td><td class=\"split\" style=\"display: none\">1:44</td><td></td><td></td><td></td></tr><tr class=\"\" style=\"\"><td>42</td><td class=\"bib\">21O</td><td><a href=\"/athletes/84750\">Choi Yeong-Bae</a></td><td><a href=\"/countries/KOR\"><img src=\"/images/flags/KOR.png\" style=\"padding-right: 2px; vertical-align: middle\"/>KOR</a></td><td>2:26.7</td><td class=\"split\" style=\"display: none\">29</td><td class=\"split\" style=\"display: none\">1:06</td><td class=\"split\" style=\"display: none\">1:45</td><td></td><td></td><td></td></tr><tr class=\"\" style=\"\"><td>43</td><td class=\"bib\">7O</td><td><a href=\"/athletes/97152\">Johnny Sands</a></td><td><a href=\"/countries/CAN\"><img src=\"/images/flags/CAN.png\" style=\"padding-right: 2px; vertical-align: middle\"/>CAN</a></td><td>2:28.4</td><td class=\"split\" style=\"display: none\">30</td><td class=\"split\" style=\"display: none\">1:06</td><td class=\"split\" style=\"display: none\">1:46</td><td></td><td></td><td></td></tr><tr class=\"\" style=\"\"><td>44</td><td class=\"bib\">16I</td><td><a href=\"/athletes/84693\">Jang In-Won</a></td><td><a href=\"/countries/KOR\"><img src=\"/images/flags/KOR.png\" style=\"padding-right: 2px; vertical-align: middle\"/>KOR</a></td><td>2:30.7</td><td class=\"split\" style=\"display: none\">31</td><td class=\"split\" style=\"display: none\">1:09</td><td class=\"split\" style=\"display: none\">1:48</td><td></td><td></td><td></td></tr><tr class=\"\" style=\"\"><td>45</td><td class=\"bib\">23I</td><td><a href=\"/athletes/95212\">Larry Mason</a></td><td><a href=\"/countries/CAN\"><img src=\"/images/flags/CAN.png\" style=\"padding-right: 2px; vertical-align: middle\"/>CAN</a></td><td>2:35.3</td><td class=\"split\" style=\"display: none\">29</td><td class=\"split\" style=\"display: none\">1:08</td><td class=\"split\" style=\"display: none\">1:51</td><td></td><td></td><td></td></tr><tr class=\"\" style=\"\"><td>AC</td><td class=\"bib\">15O</td><td><a href=\"/athletes/99336\">Nils Aaness</a></td><td><a href=\"/countries/NOR\"><img src=\"/images/flags/NOR.png\" style=\"padding-right: 2px; vertical-align: middle\"/>NOR</a></td><td>–</td><td class=\"split\" style=\"display: none\">28</td><td class=\"split\" style=\"display: none\">1:02</td><td class=\"split\" style=\"display: none\">1:36</td><td><span class=\"label label-primary\"><abbrev title=\"Did not finish\">DNF</abbrev></span></td><td></td><td></td></tr><tr class=\"\" style=\"\"><td>AC</td><td class=\"bib\">24O</td><td><a href=\"/athletes/98533\">Henk van der Grift</a></td><td><a href=\"/countries/NED\"><img src=\"/images/flags/NED.png\" style=\"padding-right: 2px; vertical-align: middle\"/>NED</a></td><td>–</td><td class=\"split\" style=\"display: none\">29</td><td class=\"split\" style=\"display: none\">1:04</td><td class=\"split\" style=\"display: none\">1:38.5</td><td><span class=\"label label-primary\"><abbrev title=\"Did not finish\">DNF</abbrev></span></td><td></td><td></td></tr><tr class=\"\" style=\"\"><td>AC</td><td class=\"bib\">18O</td><td><a href=\"/athletes/95981\">Franz Offenberger</a></td><td><a href=\"/countries/AUT\"><img src=\"/images/flags/AUT.png\" style=\"padding-right: 2px; vertical-align: middle\"/>AUT</a></td><td>–</td><td class=\"split\" style=\"display: none\">–</td><td class=\"split\" style=\"display: none\">–</td><td class=\"split\" style=\"display: none\">–</td><td><span class=\"label label-primary\"><abbrev title=\"Did not finish\">DNF</abbrev></span></td><td></td><td></td></tr></tbody></table>\n",
       " </div>,\n",
       " <div class=\"container\">\n",
       " <p>\n",
       " <a href=\"/users/sign_in\">Login</a>\n",
       " |\n",
       " <a href=\"/statistics/olympedia\">Statistics</a>\n",
       " |\n",
       " <a href=\"/static/about\">About</a>\n",
       " |\n",
       " <a href=\"/static/faq\">FAQ</a>\n",
       " |\n",
       " <a href=\"/feedbacks/new\">Feedback</a>\n",
       " </p>\n",
       " <p>\n",
       " © <a href=\"/static/about\">OlyMADMen</a> 2006 — 2022\n",
       " </p>\n",
       " </div>]"
      ]
     },
     "execution_count": 11,
     "metadata": {},
     "output_type": "execute_result"
    }
   ],
   "source": [
    "news_soup.find_all(\"div\", class_ = \"container\")"
   ]
  },
  {
   "cell_type": "code",
   "execution_count": 13,
   "id": "57d2db07",
   "metadata": {},
   "outputs": [
    {
     "data": {
      "text/plain": [
       "<table class=\"table table-striped\"><thead><tr><th>Pos</th><th>Pair</th><th>Skater</th><th>NOC</th><th>Time</th><th class=\"split\" style=\"display: none\">300 m</th><th class=\"split\" style=\"display: none\">700 m</th><th class=\"split\" style=\"display: none\">1100 m</th><th></th><th></th><th></th></tr></thead><tbody><tr class=\"\" style=\"\"><td>=1</td><td class=\"bib\">9O</td><td><a href=\"/athletes/99337\">Roald Aas</a></td><td><a href=\"/countries/NOR\"><img src=\"/images/flags/NOR.png\" style=\"padding-right: 2px; vertical-align: middle\"/>NOR</a></td><td>2:10.4</td><td class=\"split\" style=\"display: none\">28</td><td class=\"split\" style=\"display: none\">1:00</td><td class=\"split\" style=\"display: none\">1:35</td><td></td><td><span class=\"Gold\">Gold</span></td><td></td></tr><tr class=\"\" style=\"\"><td>=1</td><td class=\"bib\">13I</td><td><a href=\"/athletes/86236\">Yevgeny Grishin</a></td><td><a href=\"/countries/URS\"><img src=\"/images/flags/URS.png\" style=\"padding-right: 2px; vertical-align: middle\"/>URS</a></td><td>2:10.4</td><td class=\"split\" style=\"display: none\">26</td><td class=\"split\" style=\"display: none\">58</td><td class=\"split\" style=\"display: none\">1:32</td><td></td><td><span class=\"Gold\">Gold</span></td><td></td></tr><tr class=\"\" style=\"\"><td>3</td><td class=\"bib\">6O</td><td><a href=\"/athletes/97825\">Boris Stenin</a></td><td><a href=\"/countries/URS\"><img src=\"/images/flags/URS.png\" style=\"padding-right: 2px; vertical-align: middle\"/>URS</a></td><td>2:11.5</td><td class=\"split\" style=\"display: none\">27</td><td class=\"split\" style=\"display: none\">59</td><td class=\"split\" style=\"display: none\">1:33</td><td></td><td><span class=\"Bronze\">Bronze</span></td><td></td></tr><tr class=\"\" style=\"\"><td>4</td><td class=\"bib\">5O</td><td><a href=\"/athletes/87617\">Jouko Jokinen</a></td><td><a href=\"/countries/FIN\"><img src=\"/images/flags/FIN.png\" style=\"padding-right: 2px; vertical-align: middle\"/>FIN</a></td><td>2:12.0</td><td class=\"split\" style=\"display: none\">27</td><td class=\"split\" style=\"display: none\">1:01</td><td class=\"split\" style=\"display: none\">1:35</td><td></td><td></td><td></td></tr><tr class=\"\" style=\"\"><td>=5</td><td class=\"bib\">11I</td><td><a href=\"/athletes/84384\">Per-Olof Brogren</a></td><td><a href=\"/countries/SWE\"><img src=\"/images/flags/SWE.png\" style=\"padding-right: 2px; vertical-align: middle\"/>SWE</a></td><td>2:13.1</td><td class=\"split\" style=\"display: none\">28</td><td class=\"split\" style=\"display: none\">1:01</td><td class=\"split\" style=\"display: none\">1:36</td><td></td><td></td><td></td></tr><tr class=\"\" style=\"\"><td>=5</td><td class=\"bib\">9I</td><td><a href=\"/athletes/87699\">Juhani Järvinen</a></td><td><a href=\"/countries/FIN\"><img src=\"/images/flags/FIN.png\" style=\"padding-right: 2px; vertical-align: middle\"/>FIN</a></td><td>2:13.1</td><td class=\"split\" style=\"display: none\">28</td><td class=\"split\" style=\"display: none\">1:02</td><td class=\"split\" style=\"display: none\">1:36</td><td></td><td></td><td></td></tr><tr class=\"\" style=\"\"><td>7</td><td class=\"bib\">11O</td><td><a href=\"/athletes/97108\">Toivo Salonen</a></td><td><a href=\"/countries/FIN\"><img src=\"/images/flags/FIN.png\" style=\"padding-right: 2px; vertical-align: middle\"/>FIN</a></td><td>2:13.1</td><td class=\"split\" style=\"display: none\">27</td><td class=\"split\" style=\"display: none\">1:00</td><td class=\"split\" style=\"display: none\">1:35</td><td></td><td></td><td></td></tr><tr class=\"\" style=\"\"><td>8</td><td class=\"bib\">14I</td><td><a href=\"/athletes/88566\">André Kouprianoff</a></td><td><a href=\"/countries/FRA\"><img src=\"/images/flags/FRA.png\" style=\"padding-right: 2px; vertical-align: middle\"/>FRA</a></td><td>2:13.3</td><td class=\"split\" style=\"display: none\">28</td><td class=\"split\" style=\"display: none\">1:02</td><td class=\"split\" style=\"display: none\">1:37</td><td></td><td></td><td></td></tr><tr class=\"\" style=\"\"><td>9</td><td class=\"bib\">8I</td><td><a href=\"/athletes/88693\">Helmut Kuhnert</a></td><td><a href=\"/countries/GER\"><img src=\"/images/flags/GER.png\" style=\"padding-right: 2px; vertical-align: middle\"/>GER</a></td><td>2:13.6</td><td class=\"split\" style=\"display: none\">29</td><td class=\"split\" style=\"display: none\">1:03</td><td class=\"split\" style=\"display: none\">1:37</td><td></td><td></td><td></td></tr><tr class=\"\" style=\"\"><td>10</td><td class=\"bib\">19I</td><td><a href=\"/athletes/86069\">Raymond Gilloz</a></td><td><a href=\"/countries/FRA\"><img src=\"/images/flags/FRA.png\" style=\"padding-right: 2px; vertical-align: middle\"/>FRA</a></td><td>2:14.2</td><td class=\"split\" style=\"display: none\">28</td><td class=\"split\" style=\"display: none\">1:02</td><td class=\"split\" style=\"display: none\">1:37</td><td></td><td></td><td></td></tr><tr class=\"\" style=\"\"><td>11</td><td class=\"bib\">16O</td><td><a href=\"/athletes/87553\">Knut Johannesen</a></td><td><a href=\"/countries/NOR\"><img src=\"/images/flags/NOR.png\" style=\"padding-right: 2px; vertical-align: middle\"/>NOR</a></td><td>2:14.5</td><td class=\"split\" style=\"display: none\">29</td><td class=\"split\" style=\"display: none\">1:03</td><td class=\"split\" style=\"display: none\">1:38</td><td></td><td></td><td></td></tr><tr class=\"\" style=\"\"><td>12</td><td class=\"bib\">17O</td><td><a href=\"/athletes/98724\">Gennady Voronin</a></td><td><a href=\"/countries/URS\"><img src=\"/images/flags/URS.png\" style=\"padding-right: 2px; vertical-align: middle\"/>URS</a></td><td>2:14.7</td><td class=\"split\" style=\"display: none\">27</td><td class=\"split\" style=\"display: none\">59</td><td class=\"split\" style=\"display: none\">1:34</td><td></td><td></td><td></td></tr><tr class=\"\" style=\"\"><td>13</td><td class=\"bib\">5I</td><td><a href=\"/athletes/97856\">Kurt Stille</a></td><td><a href=\"/countries/DEN\"><img src=\"/images/flags/DEN.png\" style=\"padding-right: 2px; vertical-align: middle\"/>DEN</a></td><td>2:15.8</td><td class=\"split\" style=\"display: none\">28</td><td class=\"split\" style=\"display: none\">1:03</td><td class=\"split\" style=\"display: none\">1:38</td><td></td><td></td><td></td></tr><tr class=\"\" style=\"\"><td>14</td><td class=\"bib\">13O</td><td><a href=\"/athletes/86621\">Colin Hickey</a></td><td><a href=\"/countries/AUS\"><img src=\"/images/flags/AUS.png\" style=\"padding-right: 2px; vertical-align: middle\"/>AUS</a></td><td>2:16.1</td><td class=\"split\" style=\"display: none\">28</td><td class=\"split\" style=\"display: none\">1:02</td><td class=\"split\" style=\"display: none\">1:37</td><td></td><td></td><td></td></tr><tr class=\"\" style=\"\"><td>=15</td><td class=\"bib\">17I</td><td><a href=\"/athletes/85055\">Wim de Graaff</a></td><td><a href=\"/countries/NED\"><img src=\"/images/flags/NED.png\" style=\"padding-right: 2px; vertical-align: middle\"/>NED</a></td><td>2:16.5</td><td class=\"split\" style=\"display: none\">28</td><td class=\"split\" style=\"display: none\">1:02</td><td class=\"split\" style=\"display: none\">1:38</td><td></td><td></td><td></td></tr><tr class=\"\" style=\"\"><td>=15</td><td class=\"bib\">6I</td><td><a href=\"/athletes/97587\">Gunnar Sjölin</a></td><td><a href=\"/countries/SWE\"><img src=\"/images/flags/SWE.png\" style=\"padding-right: 2px; vertical-align: middle\"/>SWE</a></td><td>2:16.5</td><td class=\"split\" style=\"display: none\">29</td><td class=\"split\" style=\"display: none\">1:02</td><td class=\"split\" style=\"display: none\">1:37</td><td></td><td></td><td></td></tr><tr class=\"\" style=\"\"><td>17</td><td class=\"bib\">8O</td><td><a href=\"/athletes/87240\">Dick Hunt</a></td><td><a href=\"/countries/USA\"><img src=\"/images/flags/USA.png\" style=\"padding-right: 2px; vertical-align: middle\"/>USA</a></td><td>2:17.7</td><td class=\"split\" style=\"display: none\">29</td><td class=\"split\" style=\"display: none\">1:04</td><td class=\"split\" style=\"display: none\">1:40</td><td></td><td></td><td></td></tr><tr class=\"\" style=\"\"><td>=18</td><td class=\"bib\">4O</td><td><a href=\"/athletes/84976\">Olle Dahlberg</a></td><td><a href=\"/countries/SWE\"><img src=\"/images/flags/SWE.png\" style=\"padding-right: 2px; vertical-align: middle\"/>SWE</a></td><td>2:18.3</td><td class=\"split\" style=\"display: none\">28</td><td class=\"split\" style=\"display: none\">1:02</td><td class=\"split\" style=\"display: none\">1:39</td><td></td><td></td><td></td></tr><tr class=\"\" style=\"\"><td>=18</td><td class=\"bib\">1I</td><td><a href=\"/athletes/97357\">Manfred Schüler</a></td><td><a href=\"/countries/GER\"><img src=\"/images/flags/GER.png\" style=\"padding-right: 2px; vertical-align: middle\"/>GER</a></td><td>2:18.3</td><td class=\"split\" style=\"display: none\">28</td><td class=\"split\" style=\"display: none\">1:02</td><td class=\"split\" style=\"display: none\">1:39</td><td></td><td></td><td></td></tr><tr class=\"\" style=\"\"><td>20</td><td class=\"bib\">19O</td><td><a href=\"/athletes/86078\">Mario Gios</a></td><td><a href=\"/countries/ITA\"><img src=\"/images/flags/ITA.png\" style=\"padding-right: 2px; vertical-align: middle\"/>ITA</a></td><td>2:18.6</td><td class=\"split\" style=\"display: none\">28</td><td class=\"split\" style=\"display: none\">1:04</td><td class=\"split\" style=\"display: none\">1:40</td><td></td><td></td><td></td></tr><tr class=\"\" style=\"\"><td>21</td><td class=\"bib\">3I</td><td><a href=\"/athletes/95715\">Fumio Nagakubo</a></td><td><a href=\"/countries/JPN\"><img src=\"/images/flags/JPN.png\" style=\"padding-right: 2px; vertical-align: middle\"/>JPN</a></td><td>2:18.7</td><td class=\"split\" style=\"display: none\">27</td><td class=\"split\" style=\"display: none\">1:01</td><td class=\"split\" style=\"display: none\">1:39</td><td></td><td></td><td></td></tr><tr class=\"\" style=\"\"><td>22</td><td class=\"bib\">14O</td><td><a href=\"/athletes/83949\">Floyd Bedbury</a></td><td><a href=\"/countries/USA\"><img src=\"/images/flags/USA.png\" style=\"padding-right: 2px; vertical-align: middle\"/>USA</a></td><td>2:18.9</td><td class=\"split\" style=\"display: none\">29</td><td class=\"split\" style=\"display: none\">1:04</td><td class=\"split\" style=\"display: none\">1:40</td><td></td><td></td><td></td></tr><tr class=\"\" style=\"\"><td>23</td><td class=\"bib\">23O</td><td><a href=\"/athletes/98163\">Keijo Tapiovaara</a></td><td><a href=\"/countries/FIN\"><img src=\"/images/flags/FIN.png\" style=\"padding-right: 2px; vertical-align: middle\"/>FIN</a></td><td>2:19.2</td><td class=\"split\" style=\"display: none\">28</td><td class=\"split\" style=\"display: none\">1:04</td><td class=\"split\" style=\"display: none\">1:41</td><td></td><td></td><td></td></tr><tr class=\"\" style=\"\"><td>24</td><td class=\"bib\">7I</td><td><a href=\"/athletes/97908\">Hermann Strutz</a></td><td><a href=\"/countries/AUT\"><img src=\"/images/flags/AUT.png\" style=\"padding-right: 2px; vertical-align: middle\"/>AUT</a></td><td>2:19.4</td><td class=\"split\" style=\"display: none\">30</td><td class=\"split\" style=\"display: none\">1:05</td><td class=\"split\" style=\"display: none\">1:42</td><td></td><td></td><td></td></tr><tr class=\"\" style=\"\"><td>25</td><td class=\"bib\">2O</td><td><a href=\"/athletes/95873\">Antonio Nitto</a></td><td><a href=\"/countries/ITA\"><img src=\"/images/flags/ITA.png\" style=\"padding-right: 2px; vertical-align: middle\"/>ITA</a></td><td>2:19.6</td><td class=\"split\" style=\"display: none\">29</td><td class=\"split\" style=\"display: none\">1:04</td><td class=\"split\" style=\"display: none\">1:41</td><td></td><td></td><td></td></tr><tr class=\"\" style=\"\"><td>26</td><td class=\"bib\">12O</td><td><a href=\"/athletes/95539\">Terry Monaghan</a></td><td><a href=\"/countries/GBR\"><img src=\"/images/flags/GBR.png\" style=\"padding-right: 2px; vertical-align: middle\"/>GBR</a></td><td>2:19.9</td><td class=\"split\" style=\"display: none\">30</td><td class=\"split\" style=\"display: none\">1:05</td><td class=\"split\" style=\"display: none\">1:42</td><td></td><td></td><td></td></tr><tr class=\"\" style=\"\"><td>27</td><td class=\"bib\">10O</td><td><a href=\"/athletes/85085\">Renato De Riva</a></td><td><a href=\"/countries/ITA\"><img src=\"/images/flags/ITA.png\" style=\"padding-right: 2px; vertical-align: middle\"/>ITA</a></td><td>2:20.6</td><td class=\"split\" style=\"display: none\">29</td><td class=\"split\" style=\"display: none\">1:04</td><td class=\"split\" style=\"display: none\">1:42</td><td></td><td></td><td></td></tr><tr class=\"\" style=\"\"><td>28</td><td class=\"bib\">22O</td><td><a href=\"/athletes/87784\">Bo Karenus</a></td><td><a href=\"/countries/SWE\"><img src=\"/images/flags/SWE.png\" style=\"padding-right: 2px; vertical-align: middle\"/>SWE</a></td><td>2:21.1</td><td class=\"split\" style=\"display: none\">28</td><td class=\"split\" style=\"display: none\">1:04</td><td class=\"split\" style=\"display: none\">1:42</td><td></td><td></td><td></td></tr><tr class=\"\" style=\"\"><td>=29</td><td class=\"bib\">10I</td><td><a href=\"/athletes/87153\">Yoshitaki Hori</a></td><td><a href=\"/countries/JPN\"><img src=\"/images/flags/JPN.png\" style=\"padding-right: 2px; vertical-align: middle\"/>JPN</a></td><td>2:21.7</td><td class=\"split\" style=\"display: none\">28</td><td class=\"split\" style=\"display: none\">1:03</td><td class=\"split\" style=\"display: none\">1:42</td><td></td><td></td><td></td></tr><tr class=\"\" style=\"\"><td>=29</td><td class=\"bib\">21I</td><td><a href=\"/athletes/95413\">Keith Meyer</a></td><td><a href=\"/countries/USA\"><img src=\"/images/flags/USA.png\" style=\"padding-right: 2px; vertical-align: middle\"/>USA</a></td><td>2:21.7</td><td class=\"split\" style=\"display: none\">28</td><td class=\"split\" style=\"display: none\">1:02</td><td class=\"split\" style=\"display: none\">1:39</td><td></td><td></td><td></td></tr><tr class=\"\" style=\"\"><td>=31</td><td class=\"bib\">15I</td><td><a href=\"/athletes/95890\">Harald Norden</a></td><td><a href=\"/countries/GER\"><img src=\"/images/flags/GER.png\" style=\"padding-right: 2px; vertical-align: middle\"/>GER</a></td><td>2:22.1</td><td class=\"split\" style=\"display: none\">28</td><td class=\"split\" style=\"display: none\">1:04</td><td class=\"split\" style=\"display: none\">1:42</td><td></td><td></td><td></td></tr><tr class=\"\" style=\"\"><td>=31</td><td class=\"bib\">22I</td><td><a href=\"/athletes/99155\">Lev Zaytsev</a></td><td><a href=\"/countries/URS\"><img src=\"/images/flags/URS.png\" style=\"padding-right: 2px; vertical-align: middle\"/>URS</a></td><td>2:22.1</td><td class=\"split\" style=\"display: none\">28</td><td class=\"split\" style=\"display: none\">1:02</td><td class=\"split\" style=\"display: none\">1:39</td><td></td><td></td><td></td></tr><tr class=\"\" style=\"\"><td>33</td><td class=\"bib\">1O</td><td><a href=\"/athletes/95500\">Takeo Mizoo</a></td><td><a href=\"/countries/JPN\"><img src=\"/images/flags/JPN.png\" style=\"padding-right: 2px; vertical-align: middle\"/>JPN</a></td><td>2:22.6</td><td class=\"split\" style=\"display: none\">29</td><td class=\"split\" style=\"display: none\">1:05</td><td class=\"split\" style=\"display: none\">1:42</td><td></td><td></td><td></td></tr><tr class=\"\" style=\"\"><td>34</td><td class=\"bib\">20I</td><td><a href=\"/athletes/88072\">Shuji Kobayashi</a></td><td><a href=\"/countries/JPN\"><img src=\"/images/flags/JPN.png\" style=\"padding-right: 2px; vertical-align: middle\"/>JPN</a></td><td>2:23.0</td><td class=\"split\" style=\"display: none\">29</td><td class=\"split\" style=\"display: none\">1:05</td><td class=\"split\" style=\"display: none\">1:42</td><td></td><td></td><td></td></tr><tr class=\"\" style=\"\"><td>35</td><td class=\"bib\">3O</td><td><a href=\"/athletes/96990\">Eddie Rudolph, Jr.</a></td><td><a href=\"/countries/USA\"><img src=\"/images/flags/USA.png\" style=\"padding-right: 2px; vertical-align: middle\"/>USA</a></td><td>2:23.1</td><td class=\"split\" style=\"display: none\">27</td><td class=\"split\" style=\"display: none\">1:01</td><td class=\"split\" style=\"display: none\">1:40</td><td></td><td></td><td></td></tr><tr class=\"\" style=\"\"><td>36</td><td class=\"bib\">12I</td><td><a href=\"/athletes/96035\">Ralf Olin</a></td><td><a href=\"/countries/CAN\"><img src=\"/images/flags/CAN.png\" style=\"padding-right: 2px; vertical-align: middle\"/>CAN</a></td><td>2:23.5</td><td class=\"split\" style=\"display: none\">30</td><td class=\"split\" style=\"display: none\">1:05</td><td class=\"split\" style=\"display: none\">1:43</td><td></td><td></td><td></td></tr><tr class=\"\" style=\"\"><td>37</td><td class=\"bib\">2I</td><td><a href=\"/athletes/98441\">Roy Tutty</a></td><td><a href=\"/countries/AUS\"><img src=\"/images/flags/AUS.png\" style=\"padding-right: 2px; vertical-align: middle\"/>AUS</a></td><td>2:23.8</td><td class=\"split\" style=\"display: none\">29</td><td class=\"split\" style=\"display: none\">1:05</td><td class=\"split\" style=\"display: none\">1:43</td><td></td><td></td><td></td></tr><tr class=\"\" style=\"\"><td>38</td><td class=\"bib\">24I</td><td><a href=\"/athletes/98276\">Günther Tilch</a></td><td><a href=\"/countries/GER\"><img src=\"/images/flags/GER.png\" style=\"padding-right: 2px; vertical-align: middle\"/>GER</a></td><td>2:24.8</td><td class=\"split\" style=\"display: none\">30</td><td class=\"split\" style=\"display: none\">1:07</td><td class=\"split\" style=\"display: none\">1:45</td><td></td><td></td><td></td></tr><tr class=\"\" style=\"\"><td>39</td><td class=\"bib\">18I</td><td><a href=\"/athletes/85487\">Hroar Elvenes</a></td><td><a href=\"/countries/NOR\"><img src=\"/images/flags/NOR.png\" style=\"padding-right: 2px; vertical-align: middle\"/>NOR</a></td><td>2:24.9</td><td class=\"split\" style=\"display: none\">28</td><td class=\"split\" style=\"display: none\">1:03</td><td class=\"split\" style=\"display: none\">1:42</td><td></td><td></td><td></td></tr><tr class=\"\" style=\"\"><td>40</td><td class=\"bib\">20O</td><td><a href=\"/athletes/92089\">Terry Malkin</a></td><td><a href=\"/countries/GBR\"><img src=\"/images/flags/GBR.png\" style=\"padding-right: 2px; vertical-align: middle\"/>GBR</a></td><td>2:25.0</td><td class=\"split\" style=\"display: none\">31</td><td class=\"split\" style=\"display: none\">1:08</td><td class=\"split\" style=\"display: none\">1:46</td><td></td><td></td><td></td></tr><tr class=\"\" style=\"\"><td>41</td><td class=\"bib\">4I</td><td><a href=\"/athletes/84695\">Jang Yeong</a></td><td><a href=\"/countries/KOR\"><img src=\"/images/flags/KOR.png\" style=\"padding-right: 2px; vertical-align: middle\"/>KOR</a></td><td>2:25.3</td><td class=\"split\" style=\"display: none\">29</td><td class=\"split\" style=\"display: none\">1:04</td><td class=\"split\" style=\"display: none\">1:44</td><td></td><td></td><td></td></tr><tr class=\"\" style=\"\"><td>42</td><td class=\"bib\">21O</td><td><a href=\"/athletes/84750\">Choi Yeong-Bae</a></td><td><a href=\"/countries/KOR\"><img src=\"/images/flags/KOR.png\" style=\"padding-right: 2px; vertical-align: middle\"/>KOR</a></td><td>2:26.7</td><td class=\"split\" style=\"display: none\">29</td><td class=\"split\" style=\"display: none\">1:06</td><td class=\"split\" style=\"display: none\">1:45</td><td></td><td></td><td></td></tr><tr class=\"\" style=\"\"><td>43</td><td class=\"bib\">7O</td><td><a href=\"/athletes/97152\">Johnny Sands</a></td><td><a href=\"/countries/CAN\"><img src=\"/images/flags/CAN.png\" style=\"padding-right: 2px; vertical-align: middle\"/>CAN</a></td><td>2:28.4</td><td class=\"split\" style=\"display: none\">30</td><td class=\"split\" style=\"display: none\">1:06</td><td class=\"split\" style=\"display: none\">1:46</td><td></td><td></td><td></td></tr><tr class=\"\" style=\"\"><td>44</td><td class=\"bib\">16I</td><td><a href=\"/athletes/84693\">Jang In-Won</a></td><td><a href=\"/countries/KOR\"><img src=\"/images/flags/KOR.png\" style=\"padding-right: 2px; vertical-align: middle\"/>KOR</a></td><td>2:30.7</td><td class=\"split\" style=\"display: none\">31</td><td class=\"split\" style=\"display: none\">1:09</td><td class=\"split\" style=\"display: none\">1:48</td><td></td><td></td><td></td></tr><tr class=\"\" style=\"\"><td>45</td><td class=\"bib\">23I</td><td><a href=\"/athletes/95212\">Larry Mason</a></td><td><a href=\"/countries/CAN\"><img src=\"/images/flags/CAN.png\" style=\"padding-right: 2px; vertical-align: middle\"/>CAN</a></td><td>2:35.3</td><td class=\"split\" style=\"display: none\">29</td><td class=\"split\" style=\"display: none\">1:08</td><td class=\"split\" style=\"display: none\">1:51</td><td></td><td></td><td></td></tr><tr class=\"\" style=\"\"><td>AC</td><td class=\"bib\">15O</td><td><a href=\"/athletes/99336\">Nils Aaness</a></td><td><a href=\"/countries/NOR\"><img src=\"/images/flags/NOR.png\" style=\"padding-right: 2px; vertical-align: middle\"/>NOR</a></td><td>–</td><td class=\"split\" style=\"display: none\">28</td><td class=\"split\" style=\"display: none\">1:02</td><td class=\"split\" style=\"display: none\">1:36</td><td><span class=\"label label-primary\"><abbrev title=\"Did not finish\">DNF</abbrev></span></td><td></td><td></td></tr><tr class=\"\" style=\"\"><td>AC</td><td class=\"bib\">24O</td><td><a href=\"/athletes/98533\">Henk van der Grift</a></td><td><a href=\"/countries/NED\"><img src=\"/images/flags/NED.png\" style=\"padding-right: 2px; vertical-align: middle\"/>NED</a></td><td>–</td><td class=\"split\" style=\"display: none\">29</td><td class=\"split\" style=\"display: none\">1:04</td><td class=\"split\" style=\"display: none\">1:38.5</td><td><span class=\"label label-primary\"><abbrev title=\"Did not finish\">DNF</abbrev></span></td><td></td><td></td></tr><tr class=\"\" style=\"\"><td>AC</td><td class=\"bib\">18O</td><td><a href=\"/athletes/95981\">Franz Offenberger</a></td><td><a href=\"/countries/AUT\"><img src=\"/images/flags/AUT.png\" style=\"padding-right: 2px; vertical-align: middle\"/>AUT</a></td><td>–</td><td class=\"split\" style=\"display: none\">–</td><td class=\"split\" style=\"display: none\">–</td><td class=\"split\" style=\"display: none\">–</td><td><span class=\"label label-primary\"><abbrev title=\"Did not finish\">DNF</abbrev></span></td><td></td><td></td></tr></tbody></table>"
      ]
     },
     "execution_count": 13,
     "metadata": {},
     "output_type": "execute_result"
    }
   ],
   "source": [
    "# Use the parent element to find the first `a` tag and save it as `news_title`\n",
    "table_soup = news_soup.find(\"table\", class_= \"table table-striped\")\n",
    "table_soup"
   ]
  },
  {
   "cell_type": "code",
   "execution_count": 14,
   "id": "f7f1b3e8",
   "metadata": {},
   "outputs": [
    {
     "data": {
      "text/plain": [
       "<tbody><tr class=\"\" style=\"\"><td>=1</td><td class=\"bib\">9O</td><td><a href=\"/athletes/99337\">Roald Aas</a></td><td><a href=\"/countries/NOR\"><img src=\"/images/flags/NOR.png\" style=\"padding-right: 2px; vertical-align: middle\"/>NOR</a></td><td>2:10.4</td><td class=\"split\" style=\"display: none\">28</td><td class=\"split\" style=\"display: none\">1:00</td><td class=\"split\" style=\"display: none\">1:35</td><td></td><td><span class=\"Gold\">Gold</span></td><td></td></tr><tr class=\"\" style=\"\"><td>=1</td><td class=\"bib\">13I</td><td><a href=\"/athletes/86236\">Yevgeny Grishin</a></td><td><a href=\"/countries/URS\"><img src=\"/images/flags/URS.png\" style=\"padding-right: 2px; vertical-align: middle\"/>URS</a></td><td>2:10.4</td><td class=\"split\" style=\"display: none\">26</td><td class=\"split\" style=\"display: none\">58</td><td class=\"split\" style=\"display: none\">1:32</td><td></td><td><span class=\"Gold\">Gold</span></td><td></td></tr><tr class=\"\" style=\"\"><td>3</td><td class=\"bib\">6O</td><td><a href=\"/athletes/97825\">Boris Stenin</a></td><td><a href=\"/countries/URS\"><img src=\"/images/flags/URS.png\" style=\"padding-right: 2px; vertical-align: middle\"/>URS</a></td><td>2:11.5</td><td class=\"split\" style=\"display: none\">27</td><td class=\"split\" style=\"display: none\">59</td><td class=\"split\" style=\"display: none\">1:33</td><td></td><td><span class=\"Bronze\">Bronze</span></td><td></td></tr><tr class=\"\" style=\"\"><td>4</td><td class=\"bib\">5O</td><td><a href=\"/athletes/87617\">Jouko Jokinen</a></td><td><a href=\"/countries/FIN\"><img src=\"/images/flags/FIN.png\" style=\"padding-right: 2px; vertical-align: middle\"/>FIN</a></td><td>2:12.0</td><td class=\"split\" style=\"display: none\">27</td><td class=\"split\" style=\"display: none\">1:01</td><td class=\"split\" style=\"display: none\">1:35</td><td></td><td></td><td></td></tr><tr class=\"\" style=\"\"><td>=5</td><td class=\"bib\">11I</td><td><a href=\"/athletes/84384\">Per-Olof Brogren</a></td><td><a href=\"/countries/SWE\"><img src=\"/images/flags/SWE.png\" style=\"padding-right: 2px; vertical-align: middle\"/>SWE</a></td><td>2:13.1</td><td class=\"split\" style=\"display: none\">28</td><td class=\"split\" style=\"display: none\">1:01</td><td class=\"split\" style=\"display: none\">1:36</td><td></td><td></td><td></td></tr><tr class=\"\" style=\"\"><td>=5</td><td class=\"bib\">9I</td><td><a href=\"/athletes/87699\">Juhani Järvinen</a></td><td><a href=\"/countries/FIN\"><img src=\"/images/flags/FIN.png\" style=\"padding-right: 2px; vertical-align: middle\"/>FIN</a></td><td>2:13.1</td><td class=\"split\" style=\"display: none\">28</td><td class=\"split\" style=\"display: none\">1:02</td><td class=\"split\" style=\"display: none\">1:36</td><td></td><td></td><td></td></tr><tr class=\"\" style=\"\"><td>7</td><td class=\"bib\">11O</td><td><a href=\"/athletes/97108\">Toivo Salonen</a></td><td><a href=\"/countries/FIN\"><img src=\"/images/flags/FIN.png\" style=\"padding-right: 2px; vertical-align: middle\"/>FIN</a></td><td>2:13.1</td><td class=\"split\" style=\"display: none\">27</td><td class=\"split\" style=\"display: none\">1:00</td><td class=\"split\" style=\"display: none\">1:35</td><td></td><td></td><td></td></tr><tr class=\"\" style=\"\"><td>8</td><td class=\"bib\">14I</td><td><a href=\"/athletes/88566\">André Kouprianoff</a></td><td><a href=\"/countries/FRA\"><img src=\"/images/flags/FRA.png\" style=\"padding-right: 2px; vertical-align: middle\"/>FRA</a></td><td>2:13.3</td><td class=\"split\" style=\"display: none\">28</td><td class=\"split\" style=\"display: none\">1:02</td><td class=\"split\" style=\"display: none\">1:37</td><td></td><td></td><td></td></tr><tr class=\"\" style=\"\"><td>9</td><td class=\"bib\">8I</td><td><a href=\"/athletes/88693\">Helmut Kuhnert</a></td><td><a href=\"/countries/GER\"><img src=\"/images/flags/GER.png\" style=\"padding-right: 2px; vertical-align: middle\"/>GER</a></td><td>2:13.6</td><td class=\"split\" style=\"display: none\">29</td><td class=\"split\" style=\"display: none\">1:03</td><td class=\"split\" style=\"display: none\">1:37</td><td></td><td></td><td></td></tr><tr class=\"\" style=\"\"><td>10</td><td class=\"bib\">19I</td><td><a href=\"/athletes/86069\">Raymond Gilloz</a></td><td><a href=\"/countries/FRA\"><img src=\"/images/flags/FRA.png\" style=\"padding-right: 2px; vertical-align: middle\"/>FRA</a></td><td>2:14.2</td><td class=\"split\" style=\"display: none\">28</td><td class=\"split\" style=\"display: none\">1:02</td><td class=\"split\" style=\"display: none\">1:37</td><td></td><td></td><td></td></tr><tr class=\"\" style=\"\"><td>11</td><td class=\"bib\">16O</td><td><a href=\"/athletes/87553\">Knut Johannesen</a></td><td><a href=\"/countries/NOR\"><img src=\"/images/flags/NOR.png\" style=\"padding-right: 2px; vertical-align: middle\"/>NOR</a></td><td>2:14.5</td><td class=\"split\" style=\"display: none\">29</td><td class=\"split\" style=\"display: none\">1:03</td><td class=\"split\" style=\"display: none\">1:38</td><td></td><td></td><td></td></tr><tr class=\"\" style=\"\"><td>12</td><td class=\"bib\">17O</td><td><a href=\"/athletes/98724\">Gennady Voronin</a></td><td><a href=\"/countries/URS\"><img src=\"/images/flags/URS.png\" style=\"padding-right: 2px; vertical-align: middle\"/>URS</a></td><td>2:14.7</td><td class=\"split\" style=\"display: none\">27</td><td class=\"split\" style=\"display: none\">59</td><td class=\"split\" style=\"display: none\">1:34</td><td></td><td></td><td></td></tr><tr class=\"\" style=\"\"><td>13</td><td class=\"bib\">5I</td><td><a href=\"/athletes/97856\">Kurt Stille</a></td><td><a href=\"/countries/DEN\"><img src=\"/images/flags/DEN.png\" style=\"padding-right: 2px; vertical-align: middle\"/>DEN</a></td><td>2:15.8</td><td class=\"split\" style=\"display: none\">28</td><td class=\"split\" style=\"display: none\">1:03</td><td class=\"split\" style=\"display: none\">1:38</td><td></td><td></td><td></td></tr><tr class=\"\" style=\"\"><td>14</td><td class=\"bib\">13O</td><td><a href=\"/athletes/86621\">Colin Hickey</a></td><td><a href=\"/countries/AUS\"><img src=\"/images/flags/AUS.png\" style=\"padding-right: 2px; vertical-align: middle\"/>AUS</a></td><td>2:16.1</td><td class=\"split\" style=\"display: none\">28</td><td class=\"split\" style=\"display: none\">1:02</td><td class=\"split\" style=\"display: none\">1:37</td><td></td><td></td><td></td></tr><tr class=\"\" style=\"\"><td>=15</td><td class=\"bib\">17I</td><td><a href=\"/athletes/85055\">Wim de Graaff</a></td><td><a href=\"/countries/NED\"><img src=\"/images/flags/NED.png\" style=\"padding-right: 2px; vertical-align: middle\"/>NED</a></td><td>2:16.5</td><td class=\"split\" style=\"display: none\">28</td><td class=\"split\" style=\"display: none\">1:02</td><td class=\"split\" style=\"display: none\">1:38</td><td></td><td></td><td></td></tr><tr class=\"\" style=\"\"><td>=15</td><td class=\"bib\">6I</td><td><a href=\"/athletes/97587\">Gunnar Sjölin</a></td><td><a href=\"/countries/SWE\"><img src=\"/images/flags/SWE.png\" style=\"padding-right: 2px; vertical-align: middle\"/>SWE</a></td><td>2:16.5</td><td class=\"split\" style=\"display: none\">29</td><td class=\"split\" style=\"display: none\">1:02</td><td class=\"split\" style=\"display: none\">1:37</td><td></td><td></td><td></td></tr><tr class=\"\" style=\"\"><td>17</td><td class=\"bib\">8O</td><td><a href=\"/athletes/87240\">Dick Hunt</a></td><td><a href=\"/countries/USA\"><img src=\"/images/flags/USA.png\" style=\"padding-right: 2px; vertical-align: middle\"/>USA</a></td><td>2:17.7</td><td class=\"split\" style=\"display: none\">29</td><td class=\"split\" style=\"display: none\">1:04</td><td class=\"split\" style=\"display: none\">1:40</td><td></td><td></td><td></td></tr><tr class=\"\" style=\"\"><td>=18</td><td class=\"bib\">4O</td><td><a href=\"/athletes/84976\">Olle Dahlberg</a></td><td><a href=\"/countries/SWE\"><img src=\"/images/flags/SWE.png\" style=\"padding-right: 2px; vertical-align: middle\"/>SWE</a></td><td>2:18.3</td><td class=\"split\" style=\"display: none\">28</td><td class=\"split\" style=\"display: none\">1:02</td><td class=\"split\" style=\"display: none\">1:39</td><td></td><td></td><td></td></tr><tr class=\"\" style=\"\"><td>=18</td><td class=\"bib\">1I</td><td><a href=\"/athletes/97357\">Manfred Schüler</a></td><td><a href=\"/countries/GER\"><img src=\"/images/flags/GER.png\" style=\"padding-right: 2px; vertical-align: middle\"/>GER</a></td><td>2:18.3</td><td class=\"split\" style=\"display: none\">28</td><td class=\"split\" style=\"display: none\">1:02</td><td class=\"split\" style=\"display: none\">1:39</td><td></td><td></td><td></td></tr><tr class=\"\" style=\"\"><td>20</td><td class=\"bib\">19O</td><td><a href=\"/athletes/86078\">Mario Gios</a></td><td><a href=\"/countries/ITA\"><img src=\"/images/flags/ITA.png\" style=\"padding-right: 2px; vertical-align: middle\"/>ITA</a></td><td>2:18.6</td><td class=\"split\" style=\"display: none\">28</td><td class=\"split\" style=\"display: none\">1:04</td><td class=\"split\" style=\"display: none\">1:40</td><td></td><td></td><td></td></tr><tr class=\"\" style=\"\"><td>21</td><td class=\"bib\">3I</td><td><a href=\"/athletes/95715\">Fumio Nagakubo</a></td><td><a href=\"/countries/JPN\"><img src=\"/images/flags/JPN.png\" style=\"padding-right: 2px; vertical-align: middle\"/>JPN</a></td><td>2:18.7</td><td class=\"split\" style=\"display: none\">27</td><td class=\"split\" style=\"display: none\">1:01</td><td class=\"split\" style=\"display: none\">1:39</td><td></td><td></td><td></td></tr><tr class=\"\" style=\"\"><td>22</td><td class=\"bib\">14O</td><td><a href=\"/athletes/83949\">Floyd Bedbury</a></td><td><a href=\"/countries/USA\"><img src=\"/images/flags/USA.png\" style=\"padding-right: 2px; vertical-align: middle\"/>USA</a></td><td>2:18.9</td><td class=\"split\" style=\"display: none\">29</td><td class=\"split\" style=\"display: none\">1:04</td><td class=\"split\" style=\"display: none\">1:40</td><td></td><td></td><td></td></tr><tr class=\"\" style=\"\"><td>23</td><td class=\"bib\">23O</td><td><a href=\"/athletes/98163\">Keijo Tapiovaara</a></td><td><a href=\"/countries/FIN\"><img src=\"/images/flags/FIN.png\" style=\"padding-right: 2px; vertical-align: middle\"/>FIN</a></td><td>2:19.2</td><td class=\"split\" style=\"display: none\">28</td><td class=\"split\" style=\"display: none\">1:04</td><td class=\"split\" style=\"display: none\">1:41</td><td></td><td></td><td></td></tr><tr class=\"\" style=\"\"><td>24</td><td class=\"bib\">7I</td><td><a href=\"/athletes/97908\">Hermann Strutz</a></td><td><a href=\"/countries/AUT\"><img src=\"/images/flags/AUT.png\" style=\"padding-right: 2px; vertical-align: middle\"/>AUT</a></td><td>2:19.4</td><td class=\"split\" style=\"display: none\">30</td><td class=\"split\" style=\"display: none\">1:05</td><td class=\"split\" style=\"display: none\">1:42</td><td></td><td></td><td></td></tr><tr class=\"\" style=\"\"><td>25</td><td class=\"bib\">2O</td><td><a href=\"/athletes/95873\">Antonio Nitto</a></td><td><a href=\"/countries/ITA\"><img src=\"/images/flags/ITA.png\" style=\"padding-right: 2px; vertical-align: middle\"/>ITA</a></td><td>2:19.6</td><td class=\"split\" style=\"display: none\">29</td><td class=\"split\" style=\"display: none\">1:04</td><td class=\"split\" style=\"display: none\">1:41</td><td></td><td></td><td></td></tr><tr class=\"\" style=\"\"><td>26</td><td class=\"bib\">12O</td><td><a href=\"/athletes/95539\">Terry Monaghan</a></td><td><a href=\"/countries/GBR\"><img src=\"/images/flags/GBR.png\" style=\"padding-right: 2px; vertical-align: middle\"/>GBR</a></td><td>2:19.9</td><td class=\"split\" style=\"display: none\">30</td><td class=\"split\" style=\"display: none\">1:05</td><td class=\"split\" style=\"display: none\">1:42</td><td></td><td></td><td></td></tr><tr class=\"\" style=\"\"><td>27</td><td class=\"bib\">10O</td><td><a href=\"/athletes/85085\">Renato De Riva</a></td><td><a href=\"/countries/ITA\"><img src=\"/images/flags/ITA.png\" style=\"padding-right: 2px; vertical-align: middle\"/>ITA</a></td><td>2:20.6</td><td class=\"split\" style=\"display: none\">29</td><td class=\"split\" style=\"display: none\">1:04</td><td class=\"split\" style=\"display: none\">1:42</td><td></td><td></td><td></td></tr><tr class=\"\" style=\"\"><td>28</td><td class=\"bib\">22O</td><td><a href=\"/athletes/87784\">Bo Karenus</a></td><td><a href=\"/countries/SWE\"><img src=\"/images/flags/SWE.png\" style=\"padding-right: 2px; vertical-align: middle\"/>SWE</a></td><td>2:21.1</td><td class=\"split\" style=\"display: none\">28</td><td class=\"split\" style=\"display: none\">1:04</td><td class=\"split\" style=\"display: none\">1:42</td><td></td><td></td><td></td></tr><tr class=\"\" style=\"\"><td>=29</td><td class=\"bib\">10I</td><td><a href=\"/athletes/87153\">Yoshitaki Hori</a></td><td><a href=\"/countries/JPN\"><img src=\"/images/flags/JPN.png\" style=\"padding-right: 2px; vertical-align: middle\"/>JPN</a></td><td>2:21.7</td><td class=\"split\" style=\"display: none\">28</td><td class=\"split\" style=\"display: none\">1:03</td><td class=\"split\" style=\"display: none\">1:42</td><td></td><td></td><td></td></tr><tr class=\"\" style=\"\"><td>=29</td><td class=\"bib\">21I</td><td><a href=\"/athletes/95413\">Keith Meyer</a></td><td><a href=\"/countries/USA\"><img src=\"/images/flags/USA.png\" style=\"padding-right: 2px; vertical-align: middle\"/>USA</a></td><td>2:21.7</td><td class=\"split\" style=\"display: none\">28</td><td class=\"split\" style=\"display: none\">1:02</td><td class=\"split\" style=\"display: none\">1:39</td><td></td><td></td><td></td></tr><tr class=\"\" style=\"\"><td>=31</td><td class=\"bib\">15I</td><td><a href=\"/athletes/95890\">Harald Norden</a></td><td><a href=\"/countries/GER\"><img src=\"/images/flags/GER.png\" style=\"padding-right: 2px; vertical-align: middle\"/>GER</a></td><td>2:22.1</td><td class=\"split\" style=\"display: none\">28</td><td class=\"split\" style=\"display: none\">1:04</td><td class=\"split\" style=\"display: none\">1:42</td><td></td><td></td><td></td></tr><tr class=\"\" style=\"\"><td>=31</td><td class=\"bib\">22I</td><td><a href=\"/athletes/99155\">Lev Zaytsev</a></td><td><a href=\"/countries/URS\"><img src=\"/images/flags/URS.png\" style=\"padding-right: 2px; vertical-align: middle\"/>URS</a></td><td>2:22.1</td><td class=\"split\" style=\"display: none\">28</td><td class=\"split\" style=\"display: none\">1:02</td><td class=\"split\" style=\"display: none\">1:39</td><td></td><td></td><td></td></tr><tr class=\"\" style=\"\"><td>33</td><td class=\"bib\">1O</td><td><a href=\"/athletes/95500\">Takeo Mizoo</a></td><td><a href=\"/countries/JPN\"><img src=\"/images/flags/JPN.png\" style=\"padding-right: 2px; vertical-align: middle\"/>JPN</a></td><td>2:22.6</td><td class=\"split\" style=\"display: none\">29</td><td class=\"split\" style=\"display: none\">1:05</td><td class=\"split\" style=\"display: none\">1:42</td><td></td><td></td><td></td></tr><tr class=\"\" style=\"\"><td>34</td><td class=\"bib\">20I</td><td><a href=\"/athletes/88072\">Shuji Kobayashi</a></td><td><a href=\"/countries/JPN\"><img src=\"/images/flags/JPN.png\" style=\"padding-right: 2px; vertical-align: middle\"/>JPN</a></td><td>2:23.0</td><td class=\"split\" style=\"display: none\">29</td><td class=\"split\" style=\"display: none\">1:05</td><td class=\"split\" style=\"display: none\">1:42</td><td></td><td></td><td></td></tr><tr class=\"\" style=\"\"><td>35</td><td class=\"bib\">3O</td><td><a href=\"/athletes/96990\">Eddie Rudolph, Jr.</a></td><td><a href=\"/countries/USA\"><img src=\"/images/flags/USA.png\" style=\"padding-right: 2px; vertical-align: middle\"/>USA</a></td><td>2:23.1</td><td class=\"split\" style=\"display: none\">27</td><td class=\"split\" style=\"display: none\">1:01</td><td class=\"split\" style=\"display: none\">1:40</td><td></td><td></td><td></td></tr><tr class=\"\" style=\"\"><td>36</td><td class=\"bib\">12I</td><td><a href=\"/athletes/96035\">Ralf Olin</a></td><td><a href=\"/countries/CAN\"><img src=\"/images/flags/CAN.png\" style=\"padding-right: 2px; vertical-align: middle\"/>CAN</a></td><td>2:23.5</td><td class=\"split\" style=\"display: none\">30</td><td class=\"split\" style=\"display: none\">1:05</td><td class=\"split\" style=\"display: none\">1:43</td><td></td><td></td><td></td></tr><tr class=\"\" style=\"\"><td>37</td><td class=\"bib\">2I</td><td><a href=\"/athletes/98441\">Roy Tutty</a></td><td><a href=\"/countries/AUS\"><img src=\"/images/flags/AUS.png\" style=\"padding-right: 2px; vertical-align: middle\"/>AUS</a></td><td>2:23.8</td><td class=\"split\" style=\"display: none\">29</td><td class=\"split\" style=\"display: none\">1:05</td><td class=\"split\" style=\"display: none\">1:43</td><td></td><td></td><td></td></tr><tr class=\"\" style=\"\"><td>38</td><td class=\"bib\">24I</td><td><a href=\"/athletes/98276\">Günther Tilch</a></td><td><a href=\"/countries/GER\"><img src=\"/images/flags/GER.png\" style=\"padding-right: 2px; vertical-align: middle\"/>GER</a></td><td>2:24.8</td><td class=\"split\" style=\"display: none\">30</td><td class=\"split\" style=\"display: none\">1:07</td><td class=\"split\" style=\"display: none\">1:45</td><td></td><td></td><td></td></tr><tr class=\"\" style=\"\"><td>39</td><td class=\"bib\">18I</td><td><a href=\"/athletes/85487\">Hroar Elvenes</a></td><td><a href=\"/countries/NOR\"><img src=\"/images/flags/NOR.png\" style=\"padding-right: 2px; vertical-align: middle\"/>NOR</a></td><td>2:24.9</td><td class=\"split\" style=\"display: none\">28</td><td class=\"split\" style=\"display: none\">1:03</td><td class=\"split\" style=\"display: none\">1:42</td><td></td><td></td><td></td></tr><tr class=\"\" style=\"\"><td>40</td><td class=\"bib\">20O</td><td><a href=\"/athletes/92089\">Terry Malkin</a></td><td><a href=\"/countries/GBR\"><img src=\"/images/flags/GBR.png\" style=\"padding-right: 2px; vertical-align: middle\"/>GBR</a></td><td>2:25.0</td><td class=\"split\" style=\"display: none\">31</td><td class=\"split\" style=\"display: none\">1:08</td><td class=\"split\" style=\"display: none\">1:46</td><td></td><td></td><td></td></tr><tr class=\"\" style=\"\"><td>41</td><td class=\"bib\">4I</td><td><a href=\"/athletes/84695\">Jang Yeong</a></td><td><a href=\"/countries/KOR\"><img src=\"/images/flags/KOR.png\" style=\"padding-right: 2px; vertical-align: middle\"/>KOR</a></td><td>2:25.3</td><td class=\"split\" style=\"display: none\">29</td><td class=\"split\" style=\"display: none\">1:04</td><td class=\"split\" style=\"display: none\">1:44</td><td></td><td></td><td></td></tr><tr class=\"\" style=\"\"><td>42</td><td class=\"bib\">21O</td><td><a href=\"/athletes/84750\">Choi Yeong-Bae</a></td><td><a href=\"/countries/KOR\"><img src=\"/images/flags/KOR.png\" style=\"padding-right: 2px; vertical-align: middle\"/>KOR</a></td><td>2:26.7</td><td class=\"split\" style=\"display: none\">29</td><td class=\"split\" style=\"display: none\">1:06</td><td class=\"split\" style=\"display: none\">1:45</td><td></td><td></td><td></td></tr><tr class=\"\" style=\"\"><td>43</td><td class=\"bib\">7O</td><td><a href=\"/athletes/97152\">Johnny Sands</a></td><td><a href=\"/countries/CAN\"><img src=\"/images/flags/CAN.png\" style=\"padding-right: 2px; vertical-align: middle\"/>CAN</a></td><td>2:28.4</td><td class=\"split\" style=\"display: none\">30</td><td class=\"split\" style=\"display: none\">1:06</td><td class=\"split\" style=\"display: none\">1:46</td><td></td><td></td><td></td></tr><tr class=\"\" style=\"\"><td>44</td><td class=\"bib\">16I</td><td><a href=\"/athletes/84693\">Jang In-Won</a></td><td><a href=\"/countries/KOR\"><img src=\"/images/flags/KOR.png\" style=\"padding-right: 2px; vertical-align: middle\"/>KOR</a></td><td>2:30.7</td><td class=\"split\" style=\"display: none\">31</td><td class=\"split\" style=\"display: none\">1:09</td><td class=\"split\" style=\"display: none\">1:48</td><td></td><td></td><td></td></tr><tr class=\"\" style=\"\"><td>45</td><td class=\"bib\">23I</td><td><a href=\"/athletes/95212\">Larry Mason</a></td><td><a href=\"/countries/CAN\"><img src=\"/images/flags/CAN.png\" style=\"padding-right: 2px; vertical-align: middle\"/>CAN</a></td><td>2:35.3</td><td class=\"split\" style=\"display: none\">29</td><td class=\"split\" style=\"display: none\">1:08</td><td class=\"split\" style=\"display: none\">1:51</td><td></td><td></td><td></td></tr><tr class=\"\" style=\"\"><td>AC</td><td class=\"bib\">15O</td><td><a href=\"/athletes/99336\">Nils Aaness</a></td><td><a href=\"/countries/NOR\"><img src=\"/images/flags/NOR.png\" style=\"padding-right: 2px; vertical-align: middle\"/>NOR</a></td><td>–</td><td class=\"split\" style=\"display: none\">28</td><td class=\"split\" style=\"display: none\">1:02</td><td class=\"split\" style=\"display: none\">1:36</td><td><span class=\"label label-primary\"><abbrev title=\"Did not finish\">DNF</abbrev></span></td><td></td><td></td></tr><tr class=\"\" style=\"\"><td>AC</td><td class=\"bib\">24O</td><td><a href=\"/athletes/98533\">Henk van der Grift</a></td><td><a href=\"/countries/NED\"><img src=\"/images/flags/NED.png\" style=\"padding-right: 2px; vertical-align: middle\"/>NED</a></td><td>–</td><td class=\"split\" style=\"display: none\">29</td><td class=\"split\" style=\"display: none\">1:04</td><td class=\"split\" style=\"display: none\">1:38.5</td><td><span class=\"label label-primary\"><abbrev title=\"Did not finish\">DNF</abbrev></span></td><td></td><td></td></tr><tr class=\"\" style=\"\"><td>AC</td><td class=\"bib\">18O</td><td><a href=\"/athletes/95981\">Franz Offenberger</a></td><td><a href=\"/countries/AUT\"><img src=\"/images/flags/AUT.png\" style=\"padding-right: 2px; vertical-align: middle\"/>AUT</a></td><td>–</td><td class=\"split\" style=\"display: none\">–</td><td class=\"split\" style=\"display: none\">–</td><td class=\"split\" style=\"display: none\">–</td><td><span class=\"label label-primary\"><abbrev title=\"Did not finish\">DNF</abbrev></span></td><td></td><td></td></tr></tbody>"
      ]
     },
     "execution_count": 14,
     "metadata": {},
     "output_type": "execute_result"
    }
   ],
   "source": [
    "# Use the parent element to find the paragraph text\n",
    "table_internal = table_soup.find(\"tbody\")\n",
    "table_internal"
   ]
  },
  {
   "cell_type": "code",
   "execution_count": 16,
   "id": "aad7cd78",
   "metadata": {},
   "outputs": [
    {
     "name": "stdout",
     "output_type": "stream",
     "text": [
      "{'=1': '=1', '9O': '13I', 'Roald Aas': 'Yevgeny Grishin', 'NOR': 'URS', '2:10.4': '2:10.4', '28': '26', '1:00': '58', '1:35': '1:32', '': '', 'Gold': 'Gold'}\n",
      "{'=1': '3', '9O': '6O', 'Roald Aas': 'Boris Stenin', 'NOR': 'URS', '2:10.4': '2:11.5', '28': '27', '1:00': '59', '1:35': '1:33', '': '', 'Gold': 'Bronze'}\n",
      "{'=1': '4', '9O': '5O', 'Roald Aas': 'Jouko Jokinen', 'NOR': 'FIN', '2:10.4': '2:12.0', '28': '27', '1:00': '1:01', '1:35': '1:35', '': '', 'Gold': ''}\n",
      "{'=1': '=5', '9O': '11I', 'Roald Aas': 'Per-Olof Brogren', 'NOR': 'SWE', '2:10.4': '2:13.1', '28': '28', '1:00': '1:01', '1:35': '1:36', '': '', 'Gold': ''}\n",
      "{'=1': '=5', '9O': '9I', 'Roald Aas': 'Juhani Järvinen', 'NOR': 'FIN', '2:10.4': '2:13.1', '28': '28', '1:00': '1:02', '1:35': '1:36', '': '', 'Gold': ''}\n",
      "{'=1': '7', '9O': '11O', 'Roald Aas': 'Toivo Salonen', 'NOR': 'FIN', '2:10.4': '2:13.1', '28': '27', '1:00': '1:00', '1:35': '1:35', '': '', 'Gold': ''}\n",
      "{'=1': '8', '9O': '14I', 'Roald Aas': 'André Kouprianoff', 'NOR': 'FRA', '2:10.4': '2:13.3', '28': '28', '1:00': '1:02', '1:35': '1:37', '': '', 'Gold': ''}\n",
      "{'=1': '9', '9O': '8I', 'Roald Aas': 'Helmut Kuhnert', 'NOR': 'GER', '2:10.4': '2:13.6', '28': '29', '1:00': '1:03', '1:35': '1:37', '': '', 'Gold': ''}\n",
      "{'=1': '10', '9O': '19I', 'Roald Aas': 'Raymond Gilloz', 'NOR': 'FRA', '2:10.4': '2:14.2', '28': '28', '1:00': '1:02', '1:35': '1:37', '': '', 'Gold': ''}\n",
      "{'=1': '11', '9O': '16O', 'Roald Aas': 'Knut Johannesen', 'NOR': 'NOR', '2:10.4': '2:14.5', '28': '29', '1:00': '1:03', '1:35': '1:38', '': '', 'Gold': ''}\n",
      "{'=1': '12', '9O': '17O', 'Roald Aas': 'Gennady Voronin', 'NOR': 'URS', '2:10.4': '2:14.7', '28': '27', '1:00': '59', '1:35': '1:34', '': '', 'Gold': ''}\n",
      "{'=1': '13', '9O': '5I', 'Roald Aas': 'Kurt Stille', 'NOR': 'DEN', '2:10.4': '2:15.8', '28': '28', '1:00': '1:03', '1:35': '1:38', '': '', 'Gold': ''}\n",
      "{'=1': '14', '9O': '13O', 'Roald Aas': 'Colin Hickey', 'NOR': 'AUS', '2:10.4': '2:16.1', '28': '28', '1:00': '1:02', '1:35': '1:37', '': '', 'Gold': ''}\n",
      "{'=1': '=15', '9O': '17I', 'Roald Aas': 'Wim de Graaff', 'NOR': 'NED', '2:10.4': '2:16.5', '28': '28', '1:00': '1:02', '1:35': '1:38', '': '', 'Gold': ''}\n",
      "{'=1': '=15', '9O': '6I', 'Roald Aas': 'Gunnar Sjölin', 'NOR': 'SWE', '2:10.4': '2:16.5', '28': '29', '1:00': '1:02', '1:35': '1:37', '': '', 'Gold': ''}\n",
      "{'=1': '17', '9O': '8O', 'Roald Aas': 'Dick Hunt', 'NOR': 'USA', '2:10.4': '2:17.7', '28': '29', '1:00': '1:04', '1:35': '1:40', '': '', 'Gold': ''}\n",
      "{'=1': '=18', '9O': '4O', 'Roald Aas': 'Olle Dahlberg', 'NOR': 'SWE', '2:10.4': '2:18.3', '28': '28', '1:00': '1:02', '1:35': '1:39', '': '', 'Gold': ''}\n",
      "{'=1': '=18', '9O': '1I', 'Roald Aas': 'Manfred Schüler', 'NOR': 'GER', '2:10.4': '2:18.3', '28': '28', '1:00': '1:02', '1:35': '1:39', '': '', 'Gold': ''}\n",
      "{'=1': '20', '9O': '19O', 'Roald Aas': 'Mario Gios', 'NOR': 'ITA', '2:10.4': '2:18.6', '28': '28', '1:00': '1:04', '1:35': '1:40', '': '', 'Gold': ''}\n",
      "{'=1': '21', '9O': '3I', 'Roald Aas': 'Fumio Nagakubo', 'NOR': 'JPN', '2:10.4': '2:18.7', '28': '27', '1:00': '1:01', '1:35': '1:39', '': '', 'Gold': ''}\n",
      "{'=1': '22', '9O': '14O', 'Roald Aas': 'Floyd Bedbury', 'NOR': 'USA', '2:10.4': '2:18.9', '28': '29', '1:00': '1:04', '1:35': '1:40', '': '', 'Gold': ''}\n",
      "{'=1': '23', '9O': '23O', 'Roald Aas': 'Keijo Tapiovaara', 'NOR': 'FIN', '2:10.4': '2:19.2', '28': '28', '1:00': '1:04', '1:35': '1:41', '': '', 'Gold': ''}\n",
      "{'=1': '24', '9O': '7I', 'Roald Aas': 'Hermann Strutz', 'NOR': 'AUT', '2:10.4': '2:19.4', '28': '30', '1:00': '1:05', '1:35': '1:42', '': '', 'Gold': ''}\n",
      "{'=1': '25', '9O': '2O', 'Roald Aas': 'Antonio Nitto', 'NOR': 'ITA', '2:10.4': '2:19.6', '28': '29', '1:00': '1:04', '1:35': '1:41', '': '', 'Gold': ''}\n",
      "{'=1': '26', '9O': '12O', 'Roald Aas': 'Terry Monaghan', 'NOR': 'GBR', '2:10.4': '2:19.9', '28': '30', '1:00': '1:05', '1:35': '1:42', '': '', 'Gold': ''}\n",
      "{'=1': '27', '9O': '10O', 'Roald Aas': 'Renato De Riva', 'NOR': 'ITA', '2:10.4': '2:20.6', '28': '29', '1:00': '1:04', '1:35': '1:42', '': '', 'Gold': ''}\n",
      "{'=1': '28', '9O': '22O', 'Roald Aas': 'Bo Karenus', 'NOR': 'SWE', '2:10.4': '2:21.1', '28': '28', '1:00': '1:04', '1:35': '1:42', '': '', 'Gold': ''}\n",
      "{'=1': '=29', '9O': '10I', 'Roald Aas': 'Yoshitaki Hori', 'NOR': 'JPN', '2:10.4': '2:21.7', '28': '28', '1:00': '1:03', '1:35': '1:42', '': '', 'Gold': ''}\n",
      "{'=1': '=29', '9O': '21I', 'Roald Aas': 'Keith Meyer', 'NOR': 'USA', '2:10.4': '2:21.7', '28': '28', '1:00': '1:02', '1:35': '1:39', '': '', 'Gold': ''}\n",
      "{'=1': '=31', '9O': '15I', 'Roald Aas': 'Harald Norden', 'NOR': 'GER', '2:10.4': '2:22.1', '28': '28', '1:00': '1:04', '1:35': '1:42', '': '', 'Gold': ''}\n",
      "{'=1': '=31', '9O': '22I', 'Roald Aas': 'Lev Zaytsev', 'NOR': 'URS', '2:10.4': '2:22.1', '28': '28', '1:00': '1:02', '1:35': '1:39', '': '', 'Gold': ''}\n",
      "{'=1': '33', '9O': '1O', 'Roald Aas': 'Takeo Mizoo', 'NOR': 'JPN', '2:10.4': '2:22.6', '28': '29', '1:00': '1:05', '1:35': '1:42', '': '', 'Gold': ''}\n",
      "{'=1': '34', '9O': '20I', 'Roald Aas': 'Shuji Kobayashi', 'NOR': 'JPN', '2:10.4': '2:23.0', '28': '29', '1:00': '1:05', '1:35': '1:42', '': '', 'Gold': ''}\n",
      "{'=1': '35', '9O': '3O', 'Roald Aas': 'Eddie Rudolph, Jr.', 'NOR': 'USA', '2:10.4': '2:23.1', '28': '27', '1:00': '1:01', '1:35': '1:40', '': '', 'Gold': ''}\n",
      "{'=1': '36', '9O': '12I', 'Roald Aas': 'Ralf Olin', 'NOR': 'CAN', '2:10.4': '2:23.5', '28': '30', '1:00': '1:05', '1:35': '1:43', '': '', 'Gold': ''}\n",
      "{'=1': '37', '9O': '2I', 'Roald Aas': 'Roy Tutty', 'NOR': 'AUS', '2:10.4': '2:23.8', '28': '29', '1:00': '1:05', '1:35': '1:43', '': '', 'Gold': ''}\n",
      "{'=1': '38', '9O': '24I', 'Roald Aas': 'Günther Tilch', 'NOR': 'GER', '2:10.4': '2:24.8', '28': '30', '1:00': '1:07', '1:35': '1:45', '': '', 'Gold': ''}\n",
      "{'=1': '39', '9O': '18I', 'Roald Aas': 'Hroar Elvenes', 'NOR': 'NOR', '2:10.4': '2:24.9', '28': '28', '1:00': '1:03', '1:35': '1:42', '': '', 'Gold': ''}\n",
      "{'=1': '40', '9O': '20O', 'Roald Aas': 'Terry Malkin', 'NOR': 'GBR', '2:10.4': '2:25.0', '28': '31', '1:00': '1:08', '1:35': '1:46', '': '', 'Gold': ''}\n",
      "{'=1': '41', '9O': '4I', 'Roald Aas': 'Jang Yeong', 'NOR': 'KOR', '2:10.4': '2:25.3', '28': '29', '1:00': '1:04', '1:35': '1:44', '': '', 'Gold': ''}\n",
      "{'=1': '42', '9O': '21O', 'Roald Aas': 'Choi Yeong-Bae', 'NOR': 'KOR', '2:10.4': '2:26.7', '28': '29', '1:00': '1:06', '1:35': '1:45', '': '', 'Gold': ''}\n",
      "{'=1': '43', '9O': '7O', 'Roald Aas': 'Johnny Sands', 'NOR': 'CAN', '2:10.4': '2:28.4', '28': '30', '1:00': '1:06', '1:35': '1:46', '': '', 'Gold': ''}\n",
      "{'=1': '44', '9O': '16I', 'Roald Aas': 'Jang In-Won', 'NOR': 'KOR', '2:10.4': '2:30.7', '28': '31', '1:00': '1:09', '1:35': '1:48', '': '', 'Gold': ''}\n",
      "{'=1': '45', '9O': '23I', 'Roald Aas': 'Larry Mason', 'NOR': 'CAN', '2:10.4': '2:35.3', '28': '29', '1:00': '1:08', '1:35': '1:51', '': '', 'Gold': ''}\n",
      "{'=1': 'AC', '9O': '15O', 'Roald Aas': 'Nils Aaness', 'NOR': 'NOR', '2:10.4': '–', '28': '28', '1:00': '1:02', '1:35': '1:36', '': '', 'Gold': ''}\n",
      "{'=1': 'AC', '9O': '24O', 'Roald Aas': 'Henk van der Grift', 'NOR': 'NED', '2:10.4': '–', '28': '29', '1:00': '1:04', '1:35': '1:38.5', '': '', 'Gold': ''}\n",
      "{'=1': 'AC', '9O': '18O', 'Roald Aas': 'Franz Offenberger', 'NOR': 'AUT', '2:10.4': '–', '28': '–', '1:00': '–', '1:35': '–', '': '', 'Gold': ''}\n"
     ]
    }
   ],
   "source": [
    "rows = iter(table_internal)\n",
    "headers = [col.text for col in next(rows)]\n",
    "for row in rows:\n",
    "    values = [col.text for col in row]\n",
    "    print(dict(zip(headers, values)))"
   ]
  },
  {
   "cell_type": "markdown",
   "id": "033b1fbe",
   "metadata": {},
   "source": [
    "# Images"
   ]
  },
  {
   "cell_type": "code",
   "execution_count": 8,
   "id": "6a17a3c7",
   "metadata": {},
   "outputs": [],
   "source": [
    "# Visit URL\n",
    "url = 'https://spaceimages-mars.com'\n",
    "browser.visit(url)"
   ]
  },
  {
   "cell_type": "code",
   "execution_count": 9,
   "id": "c733e472",
   "metadata": {},
   "outputs": [],
   "source": [
    "# Find and click the full image button\n",
    "full_image_elem = browser.find_by_tag('button')[1]\n",
    "full_image_elem.click()"
   ]
  },
  {
   "cell_type": "code",
   "execution_count": 10,
   "id": "10eae15f",
   "metadata": {},
   "outputs": [],
   "source": [
    "# Parse the resulting html with soup\n",
    "html = browser.html\n",
    "img_soup = soup(html, 'html.parser')"
   ]
  },
  {
   "cell_type": "code",
   "execution_count": 11,
   "id": "244a988c",
   "metadata": {},
   "outputs": [
    {
     "data": {
      "text/plain": [
       "'image/featured/mars3.jpg'"
      ]
     },
     "execution_count": 11,
     "metadata": {},
     "output_type": "execute_result"
    }
   ],
   "source": [
    "# Find the relative image url\n",
    "img_url_rel = img_soup.find('img', class_='fancybox-image').get('src')\n",
    "img_url_rel"
   ]
  },
  {
   "cell_type": "code",
   "execution_count": 14,
   "id": "de0d8e4a",
   "metadata": {},
   "outputs": [
    {
     "data": {
      "text/html": [
       "<div>\n",
       "<style scoped>\n",
       "    .dataframe tbody tr th:only-of-type {\n",
       "        vertical-align: middle;\n",
       "    }\n",
       "\n",
       "    .dataframe tbody tr th {\n",
       "        vertical-align: top;\n",
       "    }\n",
       "\n",
       "    .dataframe thead th {\n",
       "        text-align: right;\n",
       "    }\n",
       "</style>\n",
       "<table border=\"1\" class=\"dataframe\">\n",
       "  <thead>\n",
       "    <tr style=\"text-align: right;\">\n",
       "      <th></th>\n",
       "      <th>Mars</th>\n",
       "      <th>Earth</th>\n",
       "    </tr>\n",
       "    <tr>\n",
       "      <th>description</th>\n",
       "      <th></th>\n",
       "      <th></th>\n",
       "    </tr>\n",
       "  </thead>\n",
       "  <tbody>\n",
       "    <tr>\n",
       "      <th>Mars - Earth Comparison</th>\n",
       "      <td>Mars</td>\n",
       "      <td>Earth</td>\n",
       "    </tr>\n",
       "    <tr>\n",
       "      <th>Diameter:</th>\n",
       "      <td>6,779 km</td>\n",
       "      <td>12,742 km</td>\n",
       "    </tr>\n",
       "    <tr>\n",
       "      <th>Mass:</th>\n",
       "      <td>6.39 × 10^23 kg</td>\n",
       "      <td>5.97 × 10^24 kg</td>\n",
       "    </tr>\n",
       "    <tr>\n",
       "      <th>Moons:</th>\n",
       "      <td>2</td>\n",
       "      <td>1</td>\n",
       "    </tr>\n",
       "    <tr>\n",
       "      <th>Distance from Sun:</th>\n",
       "      <td>227,943,824 km</td>\n",
       "      <td>149,598,262 km</td>\n",
       "    </tr>\n",
       "    <tr>\n",
       "      <th>Length of Year:</th>\n",
       "      <td>687 Earth days</td>\n",
       "      <td>365.24 days</td>\n",
       "    </tr>\n",
       "    <tr>\n",
       "      <th>Temperature:</th>\n",
       "      <td>-87 to -5 °C</td>\n",
       "      <td>-88 to 58°C</td>\n",
       "    </tr>\n",
       "  </tbody>\n",
       "</table>\n",
       "</div>"
      ],
      "text/plain": [
       "                                    Mars            Earth\n",
       "description                                              \n",
       "Mars - Earth Comparison             Mars            Earth\n",
       "Diameter:                       6,779 km        12,742 km\n",
       "Mass:                    6.39 × 10^23 kg  5.97 × 10^24 kg\n",
       "Moons:                                 2                1\n",
       "Distance from Sun:        227,943,824 km   149,598,262 km\n",
       "Length of Year:           687 Earth days      365.24 days\n",
       "Temperature:                -87 to -5 °C      -88 to 58°C"
      ]
     },
     "execution_count": 14,
     "metadata": {},
     "output_type": "execute_result"
    }
   ],
   "source": [
    "df = pd.read_html('https://galaxyfacts-mars.com')[0]\n",
    "df.columns=['description', 'Mars', 'Earth']\n",
    "df.set_index('description', inplace=True)\n",
    "df"
   ]
  },
  {
   "cell_type": "code",
   "execution_count": 15,
   "id": "45145848",
   "metadata": {},
   "outputs": [
    {
     "data": {
      "text/plain": [
       "'<table border=\"1\" class=\"dataframe\">\\n  <thead>\\n    <tr style=\"text-align: right;\">\\n      <th></th>\\n      <th>Mars</th>\\n      <th>Earth</th>\\n    </tr>\\n    <tr>\\n      <th>description</th>\\n      <th></th>\\n      <th></th>\\n    </tr>\\n  </thead>\\n  <tbody>\\n    <tr>\\n      <th>Mars - Earth Comparison</th>\\n      <td>Mars</td>\\n      <td>Earth</td>\\n    </tr>\\n    <tr>\\n      <th>Diameter:</th>\\n      <td>6,779 km</td>\\n      <td>12,742 km</td>\\n    </tr>\\n    <tr>\\n      <th>Mass:</th>\\n      <td>6.39 × 10^23 kg</td>\\n      <td>5.97 × 10^24 kg</td>\\n    </tr>\\n    <tr>\\n      <th>Moons:</th>\\n      <td>2</td>\\n      <td>1</td>\\n    </tr>\\n    <tr>\\n      <th>Distance from Sun:</th>\\n      <td>227,943,824 km</td>\\n      <td>149,598,262 km</td>\\n    </tr>\\n    <tr>\\n      <th>Length of Year:</th>\\n      <td>687 Earth days</td>\\n      <td>365.24 days</td>\\n    </tr>\\n    <tr>\\n      <th>Temperature:</th>\\n      <td>-87 to -5 °C</td>\\n      <td>-88 to 58°C</td>\\n    </tr>\\n  </tbody>\\n</table>'"
      ]
     },
     "execution_count": 15,
     "metadata": {},
     "output_type": "execute_result"
    }
   ],
   "source": [
    "df.to_html()"
   ]
  },
  {
   "cell_type": "code",
   "execution_count": 16,
   "id": "ed9ef821",
   "metadata": {},
   "outputs": [],
   "source": [
    "browser.quit()"
   ]
  },
  {
   "cell_type": "markdown",
   "id": "810667fc",
   "metadata": {},
   "source": [
    "# I was told from the Challenge to paste the starter code after the code from the module"
   ]
  },
  {
   "cell_type": "code",
   "execution_count": 17,
   "id": "698e3f3e",
   "metadata": {},
   "outputs": [],
   "source": [
    "# Import Splinter, BeautifulSoup, and Pandas\n",
    "from splinter import Browser\n",
    "from bs4 import BeautifulSoup as soup\n",
    "import pandas as pd\n",
    "from webdriver_manager.chrome import ChromeDriverManager"
   ]
  },
  {
   "cell_type": "code",
   "execution_count": 18,
   "id": "63a0152a",
   "metadata": {},
   "outputs": [
    {
     "name": "stderr",
     "output_type": "stream",
     "text": [
      "[WDM] - \n",
      "\n",
      "[WDM] - ====== WebDriver manager ======\n",
      "[WDM] - Current google-chrome version is 95.0.4638\n",
      "[WDM] - Get LATEST driver version for 95.0.4638\n",
      "[WDM] - There is no [mac64] chromedriver for browser 95.0.4638 in cache\n",
      "[WDM] - Get LATEST driver version for 95.0.4638\n",
      "[WDM] - Trying to download new driver from https://chromedriver.storage.googleapis.com/95.0.4638.54/chromedriver_mac64.zip\n",
      "[WDM] - Driver has been saved in cache [/Users/alissa/.wdm/drivers/chromedriver/mac64/95.0.4638.54]\n"
     ]
    }
   ],
   "source": [
    "# Set the executable path and initialize Splinter\n",
    "executable_path = {'executable_path': ChromeDriverManager().install()}\n",
    "browser = Browser('chrome', **executable_path, headless=False)"
   ]
  },
  {
   "cell_type": "code",
   "execution_count": 19,
   "id": "2344291e",
   "metadata": {},
   "outputs": [
    {
     "data": {
      "text/plain": [
       "True"
      ]
     },
     "execution_count": 19,
     "metadata": {},
     "output_type": "execute_result"
    }
   ],
   "source": [
    "# Visit the mars nasa news site\n",
    "url = 'https://redplanetscience.com/'\n",
    "browser.visit(url)\n",
    "\n",
    "# Optional delay for loading the page\n",
    "browser.is_element_present_by_css('div.list_text', wait_time=1)"
   ]
  },
  {
   "cell_type": "code",
   "execution_count": 20,
   "id": "2e0a1a9c",
   "metadata": {},
   "outputs": [],
   "source": [
    "# Convert the browser html to a soup object and then quit the browser\n",
    "html = browser.html\n",
    "news_soup = soup(html, 'html.parser')\n",
    "\n",
    "slide_elem = news_soup.select_one('div.list_text')"
   ]
  },
  {
   "cell_type": "code",
   "execution_count": 21,
   "id": "0f4e867d",
   "metadata": {},
   "outputs": [
    {
     "data": {
      "text/plain": [
       "<div class=\"content_title\">NASA's Mars Perseverance Rover Passes Flight Readiness Review</div>"
      ]
     },
     "execution_count": 21,
     "metadata": {},
     "output_type": "execute_result"
    }
   ],
   "source": [
    "slide_elem.find('div', class_='content_title')"
   ]
  },
  {
   "cell_type": "code",
   "execution_count": 22,
   "id": "639836fe",
   "metadata": {},
   "outputs": [
    {
     "data": {
      "text/plain": [
       "\"NASA's Mars Perseverance Rover Passes Flight Readiness Review\""
      ]
     },
     "execution_count": 22,
     "metadata": {},
     "output_type": "execute_result"
    }
   ],
   "source": [
    "# Use the parent element to find the first a tag and save it as `news_title`\n",
    "news_title = slide_elem.find('div', class_='content_title').get_text()\n",
    "news_title"
   ]
  },
  {
   "cell_type": "code",
   "execution_count": 23,
   "id": "11623a71",
   "metadata": {},
   "outputs": [
    {
     "data": {
      "text/plain": [
       "\"\\u200bThe agency's Mars 2020 mission has one more big prelaunch review – the Launch Readiness Review, on July 27.\""
      ]
     },
     "execution_count": 23,
     "metadata": {},
     "output_type": "execute_result"
    }
   ],
   "source": [
    "# Use the parent element to find the paragraph text\n",
    "news_p = slide_elem.find('div', class_='article_teaser_body').get_text()\n",
    "news_p"
   ]
  },
  {
   "cell_type": "code",
   "execution_count": 24,
   "id": "e8567c26",
   "metadata": {},
   "outputs": [],
   "source": [
    "# Visit URL\n",
    "url = 'https://spaceimages-mars.com'\n",
    "browser.visit(url)"
   ]
  },
  {
   "cell_type": "code",
   "execution_count": 25,
   "id": "87fbccb4",
   "metadata": {},
   "outputs": [],
   "source": [
    "# Find and click the full image button\n",
    "full_image_elem = browser.find_by_tag('button')[1]\n",
    "full_image_elem.click()"
   ]
  },
  {
   "cell_type": "code",
   "execution_count": 26,
   "id": "64642126",
   "metadata": {},
   "outputs": [
    {
     "data": {
      "text/plain": [
       "<html class=\"fancybox-margin fancybox-lock\"><head>\n",
       "<meta charset=\"utf-8\"/>\n",
       "<meta content=\"width=device-width, initial-scale=1\" name=\"viewport\"/>\n",
       "<link href=\"https://maxcdn.bootstrapcdn.com/bootstrap/4.0.0/css/bootstrap.min.css\" rel=\"stylesheet\"/>\n",
       "<!-- <link rel=\"stylesheet\" type=\"text/css\" href=\"css/font.css\"> -->\n",
       "<link href=\"css/app.css\" rel=\"stylesheet\" type=\"text/css\"/>\n",
       "<link href=\"https://stackpath.bootstrapcdn.com/font-awesome/4.7.0/css/font-awesome.min.css\" rel=\"stylesheet\" type=\"text/css\"/>\n",
       "<title>Space Image</title>\n",
       "<style type=\"text/css\">.fancybox-margin{margin-right:0px;}</style></head>\n",
       "<body>\n",
       "<div class=\"header\">\n",
       "<nav class=\"navbar navbar-expand-lg\">\n",
       "<a class=\"navbar-brand\" href=\"#\"><img id=\"logo\" src=\"image/nasa.png\"/><span class=\"logo\">Jet Propulsion Laboratory</span>\n",
       "<span class=\"logo1\">California Institute of Technology</span></a>\n",
       "<button aria-controls=\"navbarNav\" aria-expanded=\"false\" aria-label=\"Toggle navigation\" class=\"navbar-toggler\" data-target=\"#navbarNav\" data-toggle=\"collapse\" type=\"button\">\n",
       "<span class=\"navbar-toggler-icon\"></span>\n",
       "</button>\n",
       "<div class=\"collapse navbar-collapse justify-content-end\" id=\"navbarNav\">\n",
       "<ul class=\"navbar-nav\">\n",
       "<li class=\"nav-item active\">\n",
       "<a class=\"nav-link\" href=\"#\"><i aria-hidden=\"true\" class=\"fa fa-bars\"></i>   MENU   <i aria-hidden=\"true\" class=\"fa fa-search\"></i></a>\n",
       "</li>\n",
       "</ul>\n",
       "</div>\n",
       "</nav>\n",
       "<div class=\"floating_text_area\">\n",
       "<h2 class=\"brand_title\">FEATURED IMAGE</h2>\n",
       "<h1 class=\"media_feature_title\">Dusty Space Cloud</h1>\n",
       "<br/>\n",
       "<a class=\"showimg fancybox-thumbs\" href=\"image/featured/mars2.jpg\" target=\"_blank\"> <button class=\"btn btn-outline-light\"> FULL IMAGE</button></a>\n",
       "</div>\n",
       "<img class=\"headerimage fade-in\" src=\"image/featured/mars2.jpg\"/></div>\n",
       "<div class=\"search sticky\">\n",
       "<div class=\"col-md-12\">\n",
       "<div class=\"row\">\n",
       "<div class=\"col-md-6\">\n",
       "<input name=\"Search\" placeholder=\"Search\" type=\"text\"/>\n",
       "</div>\n",
       "<div class=\"col-md-6\">\n",
       "<select aria-label=\"Default select example\" class=\"form-select\" id=\"options\">\n",
       "<option onchange=\"0\" selected=\"\">Mars</option>\n",
       "<!-- <option data-filter=\"sun\" class=\"button\">Mars</option> -->\n",
       "<option class=\"button\" data-filter=\"Sun\">Sun</option>\n",
       "<option class=\"button\" data-filter=\"earth\">Earth</option>\n",
       "<option class=\"button\" data-filter=\"ida\">Ida</option>\n",
       "<option class=\"button\" data-filter=\"jupiter\">Jupiter</option>\n",
       "<option class=\"button\" data-filter=\"venus\">Venus</option>\n",
       "</select>\n",
       "</div>\n",
       "</div>\n",
       "</div>\n",
       "</div>\n",
       "<div class=\"container mt-5\">\n",
       "<div class=\"col-md-12\">\n",
       "<div class=\"row\">\n",
       "<div class=\"col-md-6\">\n",
       "<h1>Images</h1>\n",
       "</div>\n",
       "<div class=\"col-md-6\" id=\"icon\">\n",
       "<div class=\"icon2\"></div>\n",
       "<div class=\"icon1\"></div>\n",
       "</div>\n",
       "</div>\n",
       "</div>\n",
       "<!-- first div -->\n",
       "<div class=\"div1\" id=\"filter\">\n",
       "<div class=\"thmbgroup\"><a class=\"fancybox-thumbs\" data-fancybox-group=\"thumb\" href=\"image/mars/Icaria Fossae7.jpg\"><div class=\"thmb\"><img alt=\"\" class=\"thumbimg\" src=\"image/mars/Icaria Fossae7.jpg\"/><p class=\"thumbcontent\">January 1, 2020<br/>Icaria Fossae7</p></div></a><a class=\"fancybox-thumbs\" data-fancybox-group=\"thumb\" href=\"image/mars/Proctor Crater Dunes 7.jpg\"><div class=\"thmb\"><img alt=\"\" class=\"thumbimg\" src=\"image/mars/Proctor Crater Dunes 7.jpg\"/><p class=\"thumbcontent\">December 31, 2020<br/>Proctor Crater Dunes</p></div></a><a class=\"fancybox-thumbs\" data-fancybox-group=\"thumb\" href=\"image/mars/Icaria Fossae7.jpg\"><div class=\"thmb\"><img alt=\"\" class=\"thumbimg\" src=\"image/mars/Icaria Fossae7.jpg\"/><p class=\"thumbcontent\">December 31, 2020<br/>Icaria Fossae</p></div></a><a class=\"fancybox-thumbs\" data-fancybox-group=\"thumb\" href=\"image/mars/Proctor Crater Dunes 7.jpg\"><div class=\"thmb\"><img alt=\"\" class=\"thumbimg\" src=\"image/mars/Proctor Crater Dunes 7.jpg\"/><p class=\"thumbcontent\">December 29, 2020<br/>Proctor Crater Dunes</p></div></a><a class=\"fancybox-thumbs\" data-fancybox-group=\"thumb\" href=\"image/mars/Proctor Crater Dunes 7.jpg\"><div class=\"thmb\"><img alt=\"\" class=\"thumbimg\" src=\"image/mars/Proctor Crater Dunes 7.jpg\"/><p class=\"thumbcontent\">December 28, 2020<br/>roctor Crater Dunes</p></div></a><a class=\"fancybox-thumbs\" data-fancybox-group=\"thumb\" href=\"image/mars/Icaria Fossae7.jpg\"><div class=\"thmb\"><img alt=\"\" class=\"thumbimg\" src=\"image/mars/Icaria Fossae7.jpg\"/><p class=\"thumbcontent\">December 22, 2020<br/>Icaria Fossae</p></div></a><a class=\"fancybox-thumbs\" data-fancybox-group=\"thumb\" href=\"image/mars/Icaria Fossae.jpg\"><div class=\"thmb\"><img alt=\"\" class=\"thumbimg\" src=\"image/mars/Icaria Fossae.jpg\"/><p class=\"thumbcontent\">December 21, 2020<br/>Icaria Fossae</p></div></a><a class=\"fancybox-thumbs\" data-fancybox-group=\"thumb\" href=\"image/mars/Ariadnes Colles4.jpg\"><div class=\"thmb\"><img alt=\"\" class=\"thumbimg\" src=\"image/mars/Ariadnes Colles4.jpg\"/><p class=\"thumbcontent\">December 18, 2020<br/>Ariadnes Colles</p></div></a><a class=\"fancybox-thumbs\" data-fancybox-group=\"thumb\" href=\"image/mars/Niger Vallis.jpg\"><div class=\"thmb\"><img alt=\"\" class=\"thumbimg\" src=\"image/mars/Niger Vallis.jpg\"/><p class=\"thumbcontent\">December 17, 2020<br/>Niger Vallis</p></div></a><a class=\"fancybox-thumbs\" data-fancybox-group=\"thumb\" href=\"image/mars/Proctor Crater Dunes.jpg\"><div class=\"thmb\"><img alt=\"\" class=\"thumbimg\" src=\"image/mars/Proctor Crater Dunes.jpg\"/><p class=\"thumbcontent\">December 16, 2020<br/>Proctor Crater Dunes</p></div></a><a class=\"fancybox-thumbs\" data-fancybox-group=\"thumb\" href=\"image/mars/Niger Vallis.jpg\"><div class=\"thmb\"><img alt=\"\" class=\"thumbimg\" src=\"image/mars/Niger Vallis.jpg\"/><p class=\"thumbcontent\">December 15, 2020<br/>Niger Vallis</p></div></a><a class=\"fancybox-thumbs\" data-fancybox-group=\"thumb\" href=\"image/mars/Daedalia Planum.jpg\"><div class=\"thmb\"><img alt=\"\" class=\"thumbimg\" src=\"image/mars/Daedalia Planum.jpg\"/><p class=\"thumbcontent\">December 11, 2020<br/>Daedalia Planum</p></div></a><a class=\"fancybox-thumbs\" data-fancybox-group=\"thumb\" href=\"image/mars/Sirenum Fossae.jpg\"><div class=\"thmb\"><img alt=\"\" class=\"thumbimg\" src=\"image/mars/Sirenum Fossae.jpg\"/><p class=\"thumbcontent\">November,11, 2020<br/>Sirenum Fossae</p></div></a><a class=\"fancybox-thumbs\" data-fancybox-group=\"thumb\" href=\"image/mars/Ariadnes Colles4.jpg\"><div class=\"thmb\"><img alt=\"\" class=\"thumbimg\" src=\"image/mars/Ariadnes Colles4.jpg\"/><p class=\"thumbcontent\">November,13, 2020<br/>Ariadnes Colles</p></div></a><a class=\"fancybox-thumbs\" data-fancybox-group=\"thumb\" href=\"image/mars/South Polar Cap.jpg\"><div class=\"thmb\"><img alt=\"\" class=\"thumbimg\" src=\"image/mars/South Polar Cap.jpg\"/><p class=\"thumbcontent\">November,14, 2020<br/>South Polar Cap</p></div></a><a class=\"fancybox-thumbs\" data-fancybox-group=\"thumb\" href=\"image/mars/Daedalia Planum.jpg\"><div class=\"thmb\"><img alt=\"\" class=\"thumbimg\" src=\"image/mars/Daedalia Planum.jpg\"/><p class=\"thumbcontent\">November,17, 2020<br/>Daedalia Planum</p></div></a><a class=\"fancybox-thumbs\" data-fancybox-group=\"thumb\" href=\"image/mars/Ariadnes Colles3.jpg\"><div class=\"thmb\"><img alt=\"\" class=\"thumbimg\" src=\"image/mars/Ariadnes Colles3.jpg\"/><p class=\"thumbcontent\">November,11, 2020<br/>Ariadnes Colles</p></div></a><a class=\"fancybox-thumbs\" data-fancybox-group=\"thumb\" href=\"image/mars/Atlantis Chaos.jpg\"><div class=\"thmb\"><img alt=\"\" class=\"thumbimg\" src=\"image/mars/Atlantis Chaos.jpg\"/><p class=\"thumbcontent\">November,09, 2020<br/>Atlantis Chaos</p></div></a><a class=\"fancybox-thumbs\" data-fancybox-group=\"thumb\" href=\"image/mars/Daedalia Planum.jpg\"><div class=\"thmb\"><img alt=\"\" class=\"thumbimg\" src=\"image/mars/Daedalia Planum.jpg\"/><p class=\"thumbcontent\">January 1, 2020<br/>Daedalia Planum</p></div></a><a class=\"fancybox-thumbs\" data-fancybox-group=\"thumb\" href=\"image/mars/Icaria Fossae.jpg\"><div class=\"thmb\"><img alt=\"\" class=\"thumbimg\" src=\"image/mars/Icaria Fossae.jpg\"/><p class=\"thumbcontent\">January 1, 2020<br/>Icaria Fossae</p></div></a><a class=\"fancybox-thumbs\" data-fancybox-group=\"thumb\" href=\"image/mars/Niger Vallis.jpg\"><div class=\"thmb\"><img alt=\"\" class=\"thumbimg\" src=\"image/mars/Niger Vallis.jpg\"/><p class=\"thumbcontent\">January 1, 2020<br/>Niger Vallis</p></div></a><a class=\"fancybox-thumbs\" data-fancybox-group=\"thumb\" href=\"image/mars/Proctor Crater Dunes.jpg\"><div class=\"thmb\"><img alt=\"\" class=\"thumbimg\" src=\"image/mars/Proctor Crater Dunes.jpg\"/><p class=\"thumbcontent\">January 1, 2020<br/>Proctor Crater Dunes</p></div></a><a class=\"fancybox-thumbs\" data-fancybox-group=\"thumb\" href=\"image/mars/Reull Vallis.jpg\"><div class=\"thmb\"><img alt=\"\" class=\"thumbimg\" src=\"image/mars/Reull Vallis.jpg\"/><p class=\"thumbcontent\">January 1, 2020<br/>Reull Vallis</p></div></a><a class=\"fancybox-thumbs\" data-fancybox-group=\"thumb\" href=\"image/mars/Ariadnes Colles3.jpg\"><div class=\"thmb\"><img alt=\"\" class=\"thumbimg\" src=\"image/mars/Ariadnes Colles3.jpg\"/><p class=\"thumbcontent\">January 1, 2020<br/>Ariadnes Colles</p></div></a><a class=\"fancybox-thumbs\" data-fancybox-group=\"thumb\" href=\"image/mars/Sirenum Fossae.jpg\"><div class=\"thmb\"><img alt=\"\" class=\"thumbimg\" src=\"image/mars/Sirenum Fossae.jpg\"/><p class=\"thumbcontent\">January 1, 2020<br/>Sirenum Fossae</p></div></a><a class=\"fancybox-thumbs\" data-fancybox-group=\"thumb\" href=\"image/mars/South Polar Cap.jpg\"><div class=\"thmb\"><img alt=\"\" class=\"thumbimg\" src=\"image/mars/South Polar Cap.jpg\"/><p class=\"thumbcontent\">January 1, 2020<br/>South Polar Cap</p></div></a><a class=\"fancybox-thumbs\" data-fancybox-group=\"thumb\" href=\"image/mars/Niger Vallis.jpg\"><div class=\"thmb\"><img alt=\"\" class=\"thumbimg\" src=\"image/mars/Niger Vallis.jpg\"/><p class=\"thumbcontent\">January 1, 2020<br/>Niger Vallis</p></div></a><a class=\"fancybox-thumbs\" data-fancybox-group=\"thumb\" href=\"image/mars/Daedalia Planum.jpg\"><div class=\"thmb\"><img alt=\"\" class=\"thumbimg\" src=\"image/mars/Daedalia Planum.jpg\"/><p class=\"thumbcontent\">January 1, 2020<br/>Daedalia Planum</p></div></a><a class=\"fancybox-thumbs\" data-fancybox-group=\"thumb\" href=\"image/mars/Icaria Fossae.jpg\"><div class=\"thmb\"><img alt=\"\" class=\"thumbimg\" src=\"image/mars/Icaria Fossae.jpg\"/><p class=\"thumbcontent\">January 1, 2020<br/>Icaria Fossae</p></div></a><a class=\"fancybox-thumbs\" data-fancybox-group=\"thumb\" href=\"image/mars/Ariadnes Colles4.jpg\"><div class=\"thmb\"><img alt=\"\" class=\"thumbimg\" src=\"image/mars/Ariadnes Colles4.jpg\"/><p class=\"thumbcontent\">January 1, 2020<br/>Ariadnes Colles</p></div></a><a class=\"fancybox-thumbs\" data-fancybox-group=\"thumb\" href=\"image/mars/South Polar Cap.jpg\"><div class=\"thmb\"><img alt=\"\" class=\"thumbimg\" src=\"image/mars/South Polar Cap.jpg\"/><p class=\"thumbcontent\">January 1, 2020<br/>South Polar Cap</p></div></a><a class=\"fancybox-thumbs\" data-fancybox-group=\"thumb\" href=\"image/mars/Daedalia Planum.jpg\"><div class=\"thmb\"><img alt=\"\" class=\"thumbimg\" src=\"image/mars/Daedalia Planum.jpg\"/><p class=\"thumbcontent\">January 1, 2020<br/>Daedalia Planum</p></div></a></div>\n",
       "</div>\n",
       "<!-- first div ends -->\n",
       "<!-- second div starts -->\n",
       "<div class=\"col-md-12 grid-margin\" id=\"column\">\n",
       "<ul class=\"post-list\">\n",
       "<li class=\"post-heading\"></li>\n",
       "</ul>\n",
       "</div>\n",
       "<!-- second div starts -->\n",
       "</div>\n",
       "<div class=\"first imgcontainer mt-3\">\n",
       "<div class=\"col-md-12\">\n",
       "<div class=\"row\">\n",
       "<div class=\"col-md-3\">\n",
       "<img id=\"pic\" src=\"\"/>\n",
       "</div>\n",
       "</div>\n",
       "</div>\n",
       "</div>\n",
       "<!-- end -->\n",
       "<div class=\"module_gallery container\">\n",
       "<div class=\"col-md-12\">\n",
       "<div class=\"row\">\n",
       "<div class=\"col-md-6\">\n",
       "<div class=\"card\">\n",
       "<img alt=\"Card image cap\" class=\"card-img-top\" src=\"https://www.jpl.nasa.gov/assets/images/content/tmp/images/jpl_photojournal(3x1).jpg\"/>\n",
       "<div class=\"card-body\">\n",
       "<h5 class=\"card-title\">JPL Photojournal</h5>\n",
       "<p class=\"card-text\">Access to the full library of publicly released images from various Solar System exploration programs</p>\n",
       "</div>\n",
       "</div>\n",
       "</div>\n",
       "<div class=\"col-md-6\">\n",
       "<div class=\"card\">\n",
       "<img alt=\"Card image cap\" class=\"card-img-top\" src=\"https://www.jpl.nasa.gov/assets/images/content/tmp/images/nasa_images(3x1).jpg\"/>\n",
       "<div class=\"card-body\">\n",
       "<h5 class=\"card-title\">Great images in NASA</h5>\n",
       "<p class=\"card-text\">A selection of the best-known images from a half-century of exploration and discovery</p>\n",
       "</div>\n",
       "</div>\n",
       "</div>\n",
       "</div>\n",
       "</div>\n",
       "</div>\n",
       "<div class=\"multi_teaser\">\n",
       "<div class=\"container\">\n",
       "<h1>You Might Also Like</h1>\n",
       "<div class=\"col-md-12 mt-5\">\n",
       "<div class=\"row\">\n",
       "<div class=\"col-md-4\">\n",
       "<div class=\"card\">\n",
       "<img alt=\"Card image cap\" class=\"card-img-top\" src=\"https://imagecache.jpl.nasa.gov/images/640x350/C1-PIA24304---CatScanMars-16-640x350.gif\"/>\n",
       "<div class=\"card-body\">\n",
       "<p class=\"card-text\">Access to the full library of publicly released images from various Solar System exploration programs</p>\n",
       "</div>\n",
       "</div>\n",
       "</div>\n",
       "<div class=\"col-md-4\">\n",
       "<div class=\"card\">\n",
       "<img alt=\"Card image cap\" class=\"card-img-top\" src=\"https://imagecache.jpl.nasa.gov/images/640x350/PIA23491-16-640x350.jpg\"/>\n",
       "<div class=\"card-body\">\n",
       "<p class=\"card-text\">Access to the full library of publicly released images from various Solar System exploration programs</p>\n",
       "</div>\n",
       "</div>\n",
       "</div>\n",
       "<div class=\"col-md-4\">\n",
       "<div class=\"card\">\n",
       "<img alt=\"Card image cap\" class=\"card-img-top\" src=\"https://imagecache.jpl.nasa.gov/images/640x350/C1-PIA23180-16-640x350.gif\"/>\n",
       "<div class=\"card-body\">\n",
       "<p class=\"card-text\">Access to the full library of publicly released images from various Solar System exploration programs</p>\n",
       "</div>\n",
       "</div>\n",
       "</div>\n",
       "</div>\n",
       "</div>\n",
       "</div>\n",
       "</div>\n",
       "<div class=\"footer\">\n",
       "<div class=\"container\">\n",
       "<div class=\"col-md-12\">\n",
       "<div class=\"row\">\n",
       "<div class=\"col-md-3\">\n",
       "<h4>About JPL</h4>\n",
       "<ul>\n",
       "<li>About JPL</li>\n",
       "<li>JPL Vision</li>\n",
       "<li>Executive Council</li>\n",
       "<li>History</li>\n",
       "</ul>\n",
       "</div>\n",
       "<div class=\"col-md-3\">\n",
       "<h4>Education</h4>\n",
       "<ul>\n",
       "<li>Intern</li>\n",
       "<li>Learn</li>\n",
       "<li>Teach</li>\n",
       "<li>News</li>\n",
       "</ul>\n",
       "</div>\n",
       "<div class=\"col-md-3\">\n",
       "<h4>Our Sites</h4>\n",
       "<ul>\n",
       "<li>Asteroid Watch</li>\n",
       "<li>Basics of Spaceflight</li>\n",
       "<li>Cassini - Mission to Saturn</li>\n",
       "<li>Climate Kids</li>\n",
       "</ul>\n",
       "</div>\n",
       "<div class=\"col-md-3\">\n",
       "<h4>Galleries</h4>\n",
       "<ul>\n",
       "<li>JPL Space Images</li>\n",
       "<li>Videos</li>\n",
       "<li>Infographics</li>\n",
       "<li>Photojournal</li>\n",
       "</ul>\n",
       "</div>\n",
       "</div>\n",
       "</div>\n",
       "</div>\n",
       "</div>\n",
       "<!--<div class=\"showFullimage\">\n",
       "\t<button class=\"btn btn-outline-light hideimage\" onclick=hideimage()> Close</button>\n",
       "\t<img class=\"fullimage fade-in\" src=\"\">\n",
       "</div>-->\n",
       "<!-- <script src=\"js/jquery.easeScroll.js\"></script>  -->\n",
       "<script src=\"js/jquery-3.5.1.min.js\"></script>\n",
       "<!-- <script src=\"js/jquery-3.2.1.slim.min.js\"></script> -->\n",
       "<script src=\"js/demo.js\"></script>\n",
       "<!-- <script src=\"js/app.js\"></script> -->\n",
       "<script src=\"https://cdnjs.cloudflare.com/ajax/libs/popper.js/1.12.9/umd/popper.min.js\"></script>\n",
       "<script src=\"https://maxcdn.bootstrapcdn.com/bootstrap/4.0.0/js/bootstrap.min.js\"></script>\n",
       "<script src=\"js/fancyBox/jquery.fancybox.pack.js?v=2.1.5\" type=\"text/javascript\"></script>\n",
       "<link href=\"js/fancyBox/jquery.fancybox.css?v=2.1.5\" media=\"screen\" rel=\"stylesheet\" type=\"text/css\"/>\n",
       "<link href=\"js/fancyBox/helpers/jquery.fancybox-thumbs.css?v=1.0.7\" rel=\"stylesheet\" type=\"text/css\"/>\n",
       "<script src=\"js/fancyBox/helpers/jquery.fancybox-thumbs.js?v=1.0.7\" type=\"text/javascript\"></script>\n",
       "<div class=\"fancybox-overlay fancybox-overlay-fixed\" style=\"width: auto; height: auto; display: block;\"><div class=\"fancybox-wrap fancybox-desktop fancybox-type-image fancybox-opened\" style=\"width: 670px; height: auto; position: absolute; top: 134px; left: 265px; opacity: 1; overflow: visible;\" tabindex=\"-1\"><div class=\"fancybox-skin\" style=\"padding: 15px; width: auto; height: auto;\"><div class=\"fancybox-outer\"><div class=\"fancybox-inner\" style=\"overflow: visible; width: 640px; height: 350px;\"><img alt=\"\" class=\"fancybox-image\" src=\"image/featured/mars2.jpg\"/></div></div><a class=\"fancybox-item fancybox-close\" href=\"javascript:;\" title=\"Close\"></a></div></div></div></body></html>"
      ]
     },
     "execution_count": 26,
     "metadata": {},
     "output_type": "execute_result"
    }
   ],
   "source": [
    "# Parse the resulting html with soup\n",
    "html = browser.html\n",
    "img_soup = soup(html, 'html.parser')\n",
    "img_soup"
   ]
  },
  {
   "cell_type": "code",
   "execution_count": 27,
   "id": "665e3352",
   "metadata": {},
   "outputs": [
    {
     "data": {
      "text/plain": [
       "'image/featured/mars2.jpg'"
      ]
     },
     "execution_count": 27,
     "metadata": {},
     "output_type": "execute_result"
    }
   ],
   "source": [
    "# find the relative image url\n",
    "img_url_rel = img_soup.find('img', class_='fancybox-image').get('src')\n",
    "img_url_rel"
   ]
  },
  {
   "cell_type": "code",
   "execution_count": 28,
   "id": "201cfc62",
   "metadata": {},
   "outputs": [
    {
     "data": {
      "text/plain": [
       "'https://spaceimages-mars.com/image/featured/mars2.jpg'"
      ]
     },
     "execution_count": 28,
     "metadata": {},
     "output_type": "execute_result"
    }
   ],
   "source": [
    "# Use the base url to create an absolute url\n",
    "img_url = f'https://spaceimages-mars.com/{img_url_rel}'\n",
    "img_url"
   ]
  },
  {
   "cell_type": "code",
   "execution_count": 29,
   "id": "49d4b9d9",
   "metadata": {},
   "outputs": [
    {
     "data": {
      "text/html": [
       "<div>\n",
       "<style scoped>\n",
       "    .dataframe tbody tr th:only-of-type {\n",
       "        vertical-align: middle;\n",
       "    }\n",
       "\n",
       "    .dataframe tbody tr th {\n",
       "        vertical-align: top;\n",
       "    }\n",
       "\n",
       "    .dataframe thead th {\n",
       "        text-align: right;\n",
       "    }\n",
       "</style>\n",
       "<table border=\"1\" class=\"dataframe\">\n",
       "  <thead>\n",
       "    <tr style=\"text-align: right;\">\n",
       "      <th></th>\n",
       "      <th>0</th>\n",
       "      <th>1</th>\n",
       "      <th>2</th>\n",
       "    </tr>\n",
       "  </thead>\n",
       "  <tbody>\n",
       "    <tr>\n",
       "      <th>0</th>\n",
       "      <td>Mars - Earth Comparison</td>\n",
       "      <td>Mars</td>\n",
       "      <td>Earth</td>\n",
       "    </tr>\n",
       "    <tr>\n",
       "      <th>1</th>\n",
       "      <td>Diameter:</td>\n",
       "      <td>6,779 km</td>\n",
       "      <td>12,742 km</td>\n",
       "    </tr>\n",
       "    <tr>\n",
       "      <th>2</th>\n",
       "      <td>Mass:</td>\n",
       "      <td>6.39 × 10^23 kg</td>\n",
       "      <td>5.97 × 10^24 kg</td>\n",
       "    </tr>\n",
       "    <tr>\n",
       "      <th>3</th>\n",
       "      <td>Moons:</td>\n",
       "      <td>2</td>\n",
       "      <td>1</td>\n",
       "    </tr>\n",
       "    <tr>\n",
       "      <th>4</th>\n",
       "      <td>Distance from Sun:</td>\n",
       "      <td>227,943,824 km</td>\n",
       "      <td>149,598,262 km</td>\n",
       "    </tr>\n",
       "  </tbody>\n",
       "</table>\n",
       "</div>"
      ],
      "text/plain": [
       "                         0                1                2\n",
       "0  Mars - Earth Comparison             Mars            Earth\n",
       "1                Diameter:         6,779 km        12,742 km\n",
       "2                    Mass:  6.39 × 10^23 kg  5.97 × 10^24 kg\n",
       "3                   Moons:                2                1\n",
       "4       Distance from Sun:   227,943,824 km   149,598,262 km"
      ]
     },
     "execution_count": 29,
     "metadata": {},
     "output_type": "execute_result"
    }
   ],
   "source": [
    "df = pd.read_html('https://galaxyfacts-mars.com')[0]\n",
    "df.head()"
   ]
  },
  {
   "cell_type": "code",
   "execution_count": 30,
   "id": "b87dd49d",
   "metadata": {},
   "outputs": [
    {
     "data": {
      "text/html": [
       "<div>\n",
       "<style scoped>\n",
       "    .dataframe tbody tr th:only-of-type {\n",
       "        vertical-align: middle;\n",
       "    }\n",
       "\n",
       "    .dataframe tbody tr th {\n",
       "        vertical-align: top;\n",
       "    }\n",
       "\n",
       "    .dataframe thead th {\n",
       "        text-align: right;\n",
       "    }\n",
       "</style>\n",
       "<table border=\"1\" class=\"dataframe\">\n",
       "  <thead>\n",
       "    <tr style=\"text-align: right;\">\n",
       "      <th></th>\n",
       "      <th>Mars</th>\n",
       "      <th>Earth</th>\n",
       "    </tr>\n",
       "    <tr>\n",
       "      <th>Description</th>\n",
       "      <th></th>\n",
       "      <th></th>\n",
       "    </tr>\n",
       "  </thead>\n",
       "  <tbody>\n",
       "    <tr>\n",
       "      <th>Mars - Earth Comparison</th>\n",
       "      <td>Mars</td>\n",
       "      <td>Earth</td>\n",
       "    </tr>\n",
       "    <tr>\n",
       "      <th>Diameter:</th>\n",
       "      <td>6,779 km</td>\n",
       "      <td>12,742 km</td>\n",
       "    </tr>\n",
       "    <tr>\n",
       "      <th>Mass:</th>\n",
       "      <td>6.39 × 10^23 kg</td>\n",
       "      <td>5.97 × 10^24 kg</td>\n",
       "    </tr>\n",
       "    <tr>\n",
       "      <th>Moons:</th>\n",
       "      <td>2</td>\n",
       "      <td>1</td>\n",
       "    </tr>\n",
       "    <tr>\n",
       "      <th>Distance from Sun:</th>\n",
       "      <td>227,943,824 km</td>\n",
       "      <td>149,598,262 km</td>\n",
       "    </tr>\n",
       "    <tr>\n",
       "      <th>Length of Year:</th>\n",
       "      <td>687 Earth days</td>\n",
       "      <td>365.24 days</td>\n",
       "    </tr>\n",
       "    <tr>\n",
       "      <th>Temperature:</th>\n",
       "      <td>-87 to -5 °C</td>\n",
       "      <td>-88 to 58°C</td>\n",
       "    </tr>\n",
       "  </tbody>\n",
       "</table>\n",
       "</div>"
      ],
      "text/plain": [
       "                                    Mars            Earth\n",
       "Description                                              \n",
       "Mars - Earth Comparison             Mars            Earth\n",
       "Diameter:                       6,779 km        12,742 km\n",
       "Mass:                    6.39 × 10^23 kg  5.97 × 10^24 kg\n",
       "Moons:                                 2                1\n",
       "Distance from Sun:        227,943,824 km   149,598,262 km\n",
       "Length of Year:           687 Earth days      365.24 days\n",
       "Temperature:                -87 to -5 °C      -88 to 58°C"
      ]
     },
     "execution_count": 30,
     "metadata": {},
     "output_type": "execute_result"
    }
   ],
   "source": [
    "df.columns=['Description', 'Mars', 'Earth']\n",
    "df.set_index('Description', inplace=True)\n",
    "df"
   ]
  },
  {
   "cell_type": "code",
   "execution_count": 31,
   "id": "415e1d4a",
   "metadata": {},
   "outputs": [
    {
     "data": {
      "text/plain": [
       "'<table border=\"1\" class=\"dataframe\">\\n  <thead>\\n    <tr style=\"text-align: right;\">\\n      <th></th>\\n      <th>Mars</th>\\n      <th>Earth</th>\\n    </tr>\\n    <tr>\\n      <th>Description</th>\\n      <th></th>\\n      <th></th>\\n    </tr>\\n  </thead>\\n  <tbody>\\n    <tr>\\n      <th>Mars - Earth Comparison</th>\\n      <td>Mars</td>\\n      <td>Earth</td>\\n    </tr>\\n    <tr>\\n      <th>Diameter:</th>\\n      <td>6,779 km</td>\\n      <td>12,742 km</td>\\n    </tr>\\n    <tr>\\n      <th>Mass:</th>\\n      <td>6.39 × 10^23 kg</td>\\n      <td>5.97 × 10^24 kg</td>\\n    </tr>\\n    <tr>\\n      <th>Moons:</th>\\n      <td>2</td>\\n      <td>1</td>\\n    </tr>\\n    <tr>\\n      <th>Distance from Sun:</th>\\n      <td>227,943,824 km</td>\\n      <td>149,598,262 km</td>\\n    </tr>\\n    <tr>\\n      <th>Length of Year:</th>\\n      <td>687 Earth days</td>\\n      <td>365.24 days</td>\\n    </tr>\\n    <tr>\\n      <th>Temperature:</th>\\n      <td>-87 to -5 °C</td>\\n      <td>-88 to 58°C</td>\\n    </tr>\\n  </tbody>\\n</table>'"
      ]
     },
     "execution_count": 31,
     "metadata": {},
     "output_type": "execute_result"
    }
   ],
   "source": [
    "df.to_html()"
   ]
  },
  {
   "cell_type": "markdown",
   "id": "033e2f03",
   "metadata": {},
   "source": [
    "# D1"
   ]
  },
  {
   "cell_type": "code",
   "execution_count": 32,
   "id": "5ea9c87b",
   "metadata": {},
   "outputs": [],
   "source": [
    "# 1. Use browser to visit the URL \n",
    "url = 'https://marshemispheres.com/'\n",
    "\n",
    "browser.visit(url)"
   ]
  },
  {
   "cell_type": "code",
   "execution_count": 48,
   "id": "c17aa8f2",
   "metadata": {},
   "outputs": [],
   "source": [
    "# 2. Create a list to hold the images and titles.\n",
    "hemisphere_image_urls = []\n",
    "\n",
    "# 3. Write code to retrieve the image urls and titles for each hemisphere"
   ]
  },
  {
   "cell_type": "code",
   "execution_count": 49,
   "id": "319c75f6",
   "metadata": {},
   "outputs": [],
   "source": [
    "for hemis in range(4):\n",
    "    # Browse through each article\n",
    "    browser.links.find_by_partial_text('Hemisphere')[hemis].click()\n",
    "    \n",
    "    # Parse the HTML\n",
    "    html = browser.html\n",
    "    hemi_soup = soup(html,'html.parser')\n",
    "    \n",
    "    # Scraping\n",
    "    title = hemi_soup.find('h2', class_='title').text\n",
    "    img_url = hemi_soup.find('li').a.get('href')\n",
    "    \n",
    "    # Store findings into a dictionary and append to list\n",
    "    hemispheres_dict = {}\n",
    "    hemispheres_dict['img_url'] = f'https://marshemispheres.com/{img_url}'\n",
    "    hemispheres_dict['title'] = title\n",
    "    hemisphere_image_urls.append(hemispheres_dict)\n",
    "    \n",
    "    # Browse back to repeat\n",
    "    browser.back()\n"
   ]
  },
  {
   "cell_type": "code",
   "execution_count": 50,
   "id": "fa719fe3",
   "metadata": {},
   "outputs": [
    {
     "data": {
      "text/plain": [
       "[{'img_url': 'https://marshemispheres.com/images/full.jpg',\n",
       "  'title': 'Cerberus Hemisphere Enhanced'},\n",
       " {'img_url': 'https://marshemispheres.com/images/schiaparelli_enhanced-full.jpg',\n",
       "  'title': 'Schiaparelli Hemisphere Enhanced'},\n",
       " {'img_url': 'https://marshemispheres.com/images/syrtis_major_enhanced-full.jpg',\n",
       "  'title': 'Syrtis Major Hemisphere Enhanced'},\n",
       " {'img_url': 'https://marshemispheres.com/images/valles_marineris_enhanced-full.jpg',\n",
       "  'title': 'Valles Marineris Hemisphere Enhanced'}]"
      ]
     },
     "execution_count": 50,
     "metadata": {},
     "output_type": "execute_result"
    }
   ],
   "source": [
    "hemisphere_image_urls"
   ]
  },
  {
   "cell_type": "code",
   "execution_count": null,
   "id": "69bd8718",
   "metadata": {},
   "outputs": [],
   "source": []
  }
 ],
 "metadata": {
  "kernelspec": {
   "display_name": "PythonData",
   "language": "python",
   "name": "pythondata"
  },
  "language_info": {
   "codemirror_mode": {
    "name": "ipython",
    "version": 3
   },
   "file_extension": ".py",
   "mimetype": "text/x-python",
   "name": "python",
   "nbconvert_exporter": "python",
   "pygments_lexer": "ipython3",
   "version": "3.8.8"
  }
 },
 "nbformat": 4,
 "nbformat_minor": 5
}
